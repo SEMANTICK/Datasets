{
 "cells": [
  {
   "cell_type": "markdown",
   "metadata": {},
   "source": [
    "# Import important libraries"
   ]
  },
  {
   "cell_type": "code",
   "execution_count": 1,
   "metadata": {},
   "outputs": [],
   "source": [
    "import numpy as np\n",
    "import pandas as pd\n",
    "import matplotlib.pyplot as plt\n",
    "import seaborn as sns\n",
    "from brainflow.data_filter import DataFilter, FilterTypes, AggOperations, WindowFunctions, DetrendOperations"
   ]
  },
  {
   "cell_type": "markdown",
   "metadata": {},
   "source": [
    "# Import BP and Questionnaire datasets"
   ]
  },
  {
   "cell_type": "code",
   "execution_count": 2,
   "metadata": {},
   "outputs": [],
   "source": [
    "external_data = pd.read_excel('External Data.xlsx')\n",
    "form_data = pd.read_excel('Responses.xlsx')"
   ]
  },
  {
   "cell_type": "markdown",
   "metadata": {},
   "source": [
    "# Filtering and Power Spectral Density calculation "
   ]
  },
  {
   "cell_type": "code",
   "execution_count": 3,
   "metadata": {},
   "outputs": [],
   "source": [
    "ch0_alpha_band_powers = []\n",
    "ch1_alpha_band_powers = []\n",
    "\n",
    "ch0_beta_band_powers = []\n",
    "ch1_beta_band_powers = []\n",
    "\n",
    "ch0_gamma_band_powers = []\n",
    "ch1_gamma_band_powers = []\n",
    "\n",
    "ch0_theta_band_powers = []\n",
    "ch1_theta_band_powers = []\n",
    "\n",
    "eeg_data_list = ['A001','A002','A003','A004','A005','A006','G001','G002','G003','G004','G005','G006','G007','H001','H002','H003','H004','H005']"
   ]
  },
  {
   "cell_type": "code",
   "execution_count": 4,
   "metadata": {},
   "outputs": [],
   "source": [
    "# Filtering Procedure that applies gain cancellation, 3rd order high and low pass filters, rms voltage conversion\n",
    "\n",
    "def filtering(channel_data):\n",
    "    channel_data = channel_data/24\n",
    "    for i in range(3):\n",
    "        DataFilter.perform_highpass(channel_data, 250, 0.3, 4, FilterTypes.BUTTERWORTH.value, 0) #3rd order HP filter\n",
    "        DataFilter.perform_lowpass(channel_data, 250, 95.0, 5, FilterTypes.CHEBYSHEV_TYPE_1.value, 1) #3rd order LP filter\n",
    "    channel_data = channel_data*0.707 # RMS Voltage\n",
    "    return channel_data"
   ]
  },
  {
   "cell_type": "code",
   "execution_count": 5,
   "metadata": {},
   "outputs": [],
   "source": [
    "# Calculating power bands by estimating PSD  \n",
    "\n",
    "def power_bands(channel_data, detrend, channel_number):\n",
    "    if(detrend == 1):\n",
    "        DataFilter.detrend(channel_data, DetrendOperations.LINEAR.value)\n",
    "    nfft = DataFilter.get_nearest_power_of_two(250)\n",
    "    psd = DataFilter.get_psd_welch(channel_data, nfft, nfft//2, 250, WindowFunctions.BLACKMAN_HARRIS.value)\n",
    "    band_power_alpha = DataFilter.get_band_power(psd, 8.0, 13.0)\n",
    "    band_power_beta = DataFilter.get_band_power(psd, 14.0, 30.0)\n",
    "    band_power_gamma = DataFilter.get_band_power(psd, 30.0, 95.0)\n",
    "    band_power_theta = DataFilter.get_band_power(psd, 4.0, 7.5)\n",
    "    if(channel_number == 0):\n",
    "        ch0_alpha_band_powers.append(band_power_alpha)\n",
    "        ch0_beta_band_powers.append(band_power_beta)\n",
    "        ch0_gamma_band_powers.append(band_power_gamma)\n",
    "        ch0_theta_band_powers.append(band_power_theta)\n",
    "    if(channel_number == 1):\n",
    "        ch1_alpha_band_powers.append(band_power_alpha)\n",
    "        ch1_beta_band_powers.append(band_power_beta)\n",
    "        ch1_gamma_band_powers.append(band_power_gamma)\n",
    "        ch1_theta_band_powers.append(band_power_theta)\n",
    "    return 0"
   ]
  },
  {
   "cell_type": "code",
   "execution_count": 6,
   "metadata": {},
   "outputs": [],
   "source": [
    "# Driver code to get band powers of all the datasets\n",
    "# Note: Filename H005_RELAX.csv was not stopped exactly at 2 minutes hence initial 30,000 rows are to be selected (as 2 min data)\n",
    "\n",
    "for i in range(len(eeg_data_list)):\n",
    "    file_name = eeg_data_list[i]+'_RELAX.csv'\n",
    "    eeg_data = pd.read_csv(file_name)\n",
    "    if(file_name == 'H005_RELAX.csv'):\n",
    "        channel_data = filtering(eeg_data[' EXG Channel 0'].iloc[:30000].values)\n",
    "        dataset1 = pd.DataFrame(data = channel_data, columns = ['ch0'])\n",
    "        channel_data = filtering(eeg_data[' EXG Channel 1'].iloc[:30000].values)\n",
    "        dataset1['ch1'] = pd.DataFrame(data = channel_data)\n",
    "    else:\n",
    "        channel_data = filtering(eeg_data[' EXG Channel 0'].values)\n",
    "        dataset1 = pd.DataFrame(data = channel_data, columns = ['ch0'])\n",
    "        channel_data = filtering(eeg_data[' EXG Channel 1'].values)\n",
    "        dataset1['ch1'] = pd.DataFrame(data = channel_data)\n",
    "        \n",
    "    deleterows = dataset1[(dataset1['ch0'] < -100) | (dataset1['ch0'] > 100) | (dataset1['ch1'] < -100) | (dataset1['ch1']> 100)]\n",
    "    dataset1 = dataset1.drop(deleterows.index)\n",
    "    power_bands(dataset1['ch0'].values, 1, 0)\n",
    "    power_bands(dataset1['ch1'].values, 1, 1)"
   ]
  },
  {
   "cell_type": "code",
   "execution_count": 7,
   "metadata": {},
   "outputs": [
    {
     "name": "stdout",
     "output_type": "stream",
     "text": [
      "18 18 18 18 18 18 18 18\n"
     ]
    }
   ],
   "source": [
    "# Checking that the number of elements in each list is equal to the number of subjects (18)\n",
    "\n",
    "print(\n",
    "    len(ch0_alpha_band_powers),\n",
    "    len(ch0_beta_band_powers),\n",
    "    len(ch0_gamma_band_powers),\n",
    "    len(ch0_theta_band_powers),\n",
    "    len(ch1_alpha_band_powers),\n",
    "    len(ch1_beta_band_powers),\n",
    "    len(ch1_gamma_band_powers),\n",
    "    len(ch1_theta_band_powers)\n",
    ")"
   ]
  },
  {
   "cell_type": "markdown",
   "metadata": {},
   "source": [
    "# Data Preparation for EDA"
   ]
  },
  {
   "cell_type": "code",
   "execution_count": 8,
   "metadata": {},
   "outputs": [],
   "source": [
    "# Merging the two datasets of BP reading and form responses\n",
    "\n",
    "dataset = pd.merge(external_data, form_data, left_on = 'Key', right_on = 'C18').drop(['Position of sub','Timestamp','C17','C18'], axis=1)"
   ]
  },
  {
   "cell_type": "code",
   "execution_count": 9,
   "metadata": {},
   "outputs": [],
   "source": [
    "# Adding the list of psd values to the dataset\n",
    "\n",
    "dataset['Alpha_ch0'] = pd.DataFrame(data = ch0_alpha_band_powers)\n",
    "dataset['Beta_ch0'] = pd.DataFrame(data = ch0_beta_band_powers)\n",
    "dataset['Gamma_ch0'] = pd.DataFrame(data = ch0_gamma_band_powers)\n",
    "dataset['Theta_ch0'] = pd.DataFrame(data = ch0_theta_band_powers)\n",
    "dataset['Alpha_ch1'] = pd.DataFrame(data = ch1_alpha_band_powers)\n",
    "dataset['Beta_ch1'] = pd.DataFrame(data = ch1_beta_band_powers)\n",
    "dataset['Gamma_ch1'] = pd.DataFrame(data = ch1_gamma_band_powers)\n",
    "dataset['Theta_ch1'] = pd.DataFrame(data = ch1_theta_band_powers)"
   ]
  },
  {
   "cell_type": "code",
   "execution_count": 10,
   "metadata": {},
   "outputs": [],
   "source": [
    "dataset = dataset.drop(['C1','C2','C3','C4','C5','C6','C7','C8','C9','C10','C11','C12','C13','C14','C15','C16'], axis = 1)"
   ]
  },
  {
   "cell_type": "code",
   "execution_count": 11,
   "metadata": {},
   "outputs": [
    {
     "data": {
      "text/html": [
       "<div>\n",
       "<style scoped>\n",
       "    .dataframe tbody tr th:only-of-type {\n",
       "        vertical-align: middle;\n",
       "    }\n",
       "\n",
       "    .dataframe tbody tr th {\n",
       "        vertical-align: top;\n",
       "    }\n",
       "\n",
       "    .dataframe thead th {\n",
       "        text-align: right;\n",
       "    }\n",
       "</style>\n",
       "<table border=\"1\" class=\"dataframe\">\n",
       "  <thead>\n",
       "    <tr style=\"text-align: right;\">\n",
       "      <th></th>\n",
       "      <th>Key</th>\n",
       "      <th>Age</th>\n",
       "      <th>occupation</th>\n",
       "      <th>SYS Init mmHg</th>\n",
       "      <th>DIA Init mmHg</th>\n",
       "      <th>Pulse/Minute Init</th>\n",
       "      <th>SYS Fin mmHg</th>\n",
       "      <th>DIA Fin mmHg</th>\n",
       "      <th>Pulse/Minute Fin</th>\n",
       "      <th>Score</th>\n",
       "      <th>Label</th>\n",
       "      <th>Alpha_ch0</th>\n",
       "      <th>Beta_ch0</th>\n",
       "      <th>Gamma_ch0</th>\n",
       "      <th>Theta_ch0</th>\n",
       "      <th>Alpha_ch1</th>\n",
       "      <th>Beta_ch1</th>\n",
       "      <th>Gamma_ch1</th>\n",
       "      <th>Theta_ch1</th>\n",
       "    </tr>\n",
       "  </thead>\n",
       "  <tbody>\n",
       "    <tr>\n",
       "      <th>0</th>\n",
       "      <td>A001</td>\n",
       "      <td>22</td>\n",
       "      <td>Student</td>\n",
       "      <td>123</td>\n",
       "      <td>73</td>\n",
       "      <td>69</td>\n",
       "      <td>111</td>\n",
       "      <td>80</td>\n",
       "      <td>67</td>\n",
       "      <td>15</td>\n",
       "      <td>Moderate</td>\n",
       "      <td>0.005531</td>\n",
       "      <td>0.004847</td>\n",
       "      <td>1.136505</td>\n",
       "      <td>0.011296</td>\n",
       "      <td>0.012324</td>\n",
       "      <td>0.006984</td>\n",
       "      <td>32.074403</td>\n",
       "      <td>0.044574</td>\n",
       "    </tr>\n",
       "    <tr>\n",
       "      <th>1</th>\n",
       "      <td>A002</td>\n",
       "      <td>17</td>\n",
       "      <td>Student</td>\n",
       "      <td>121</td>\n",
       "      <td>85</td>\n",
       "      <td>61</td>\n",
       "      <td>129</td>\n",
       "      <td>111</td>\n",
       "      <td>72</td>\n",
       "      <td>2</td>\n",
       "      <td>Low</td>\n",
       "      <td>0.018448</td>\n",
       "      <td>0.052643</td>\n",
       "      <td>3.735694</td>\n",
       "      <td>0.049332</td>\n",
       "      <td>0.048591</td>\n",
       "      <td>0.244664</td>\n",
       "      <td>22.915736</td>\n",
       "      <td>0.080897</td>\n",
       "    </tr>\n",
       "    <tr>\n",
       "      <th>2</th>\n",
       "      <td>A003</td>\n",
       "      <td>17</td>\n",
       "      <td>Student</td>\n",
       "      <td>105</td>\n",
       "      <td>81</td>\n",
       "      <td>82</td>\n",
       "      <td>108</td>\n",
       "      <td>78</td>\n",
       "      <td>82</td>\n",
       "      <td>23</td>\n",
       "      <td>Moderate</td>\n",
       "      <td>0.003125</td>\n",
       "      <td>0.007356</td>\n",
       "      <td>0.380454</td>\n",
       "      <td>0.003087</td>\n",
       "      <td>0.003143</td>\n",
       "      <td>0.007402</td>\n",
       "      <td>0.381705</td>\n",
       "      <td>0.003104</td>\n",
       "    </tr>\n",
       "    <tr>\n",
       "      <th>3</th>\n",
       "      <td>A004</td>\n",
       "      <td>48</td>\n",
       "      <td>Other</td>\n",
       "      <td>144</td>\n",
       "      <td>98</td>\n",
       "      <td>75</td>\n",
       "      <td>136</td>\n",
       "      <td>93</td>\n",
       "      <td>66</td>\n",
       "      <td>11</td>\n",
       "      <td>Low</td>\n",
       "      <td>0.065509</td>\n",
       "      <td>0.039125</td>\n",
       "      <td>8.919630</td>\n",
       "      <td>0.468833</td>\n",
       "      <td>0.065519</td>\n",
       "      <td>0.039149</td>\n",
       "      <td>8.929945</td>\n",
       "      <td>0.468574</td>\n",
       "    </tr>\n",
       "    <tr>\n",
       "      <th>4</th>\n",
       "      <td>A005</td>\n",
       "      <td>42</td>\n",
       "      <td>Other</td>\n",
       "      <td>117</td>\n",
       "      <td>81</td>\n",
       "      <td>69</td>\n",
       "      <td>114</td>\n",
       "      <td>80</td>\n",
       "      <td>68</td>\n",
       "      <td>17</td>\n",
       "      <td>Moderate</td>\n",
       "      <td>0.001279</td>\n",
       "      <td>0.000355</td>\n",
       "      <td>0.277967</td>\n",
       "      <td>0.011772</td>\n",
       "      <td>0.001435</td>\n",
       "      <td>0.000547</td>\n",
       "      <td>0.305976</td>\n",
       "      <td>0.011679</td>\n",
       "    </tr>\n",
       "  </tbody>\n",
       "</table>\n",
       "</div>"
      ],
      "text/plain": [
       "    Key  Age occupation  SYS Init mmHg  DIA Init mmHg   Pulse/Minute Init  \\\n",
       "0  A001   22    Student            123             73                  69   \n",
       "1  A002   17    Student            121             85                  61   \n",
       "2  A003   17    Student            105             81                  82   \n",
       "3  A004   48      Other            144             98                  75   \n",
       "4  A005   42      Other            117             81                  69   \n",
       "\n",
       "   SYS Fin mmHg  DIA Fin mmHg  Pulse/Minute Fin  Score     Label  Alpha_ch0  \\\n",
       "0           111            80                67     15  Moderate   0.005531   \n",
       "1           129           111                72      2       Low   0.018448   \n",
       "2           108            78                82     23  Moderate   0.003125   \n",
       "3           136            93                66     11       Low   0.065509   \n",
       "4           114            80                68     17  Moderate   0.001279   \n",
       "\n",
       "   Beta_ch0  Gamma_ch0  Theta_ch0  Alpha_ch1  Beta_ch1  Gamma_ch1  Theta_ch1  \n",
       "0  0.004847   1.136505   0.011296   0.012324  0.006984  32.074403   0.044574  \n",
       "1  0.052643   3.735694   0.049332   0.048591  0.244664  22.915736   0.080897  \n",
       "2  0.007356   0.380454   0.003087   0.003143  0.007402   0.381705   0.003104  \n",
       "3  0.039125   8.919630   0.468833   0.065519  0.039149   8.929945   0.468574  \n",
       "4  0.000355   0.277967   0.011772   0.001435  0.000547   0.305976   0.011679  "
      ]
     },
     "execution_count": 11,
     "metadata": {},
     "output_type": "execute_result"
    }
   ],
   "source": [
    "dataset.head()"
   ]
  },
  {
   "cell_type": "code",
   "execution_count": 12,
   "metadata": {},
   "outputs": [],
   "source": [
    "# Saving the data prepared into a file\n",
    "\n",
    "dataset.to_csv('EDA_dataset.csv')"
   ]
  },
  {
   "cell_type": "code",
   "execution_count": 13,
   "metadata": {},
   "outputs": [],
   "source": [
    "dataset = pd.read_csv('EDA_dataset.csv')"
   ]
  },
  {
   "cell_type": "code",
   "execution_count": 14,
   "metadata": {},
   "outputs": [],
   "source": [
    "fresh_data = dataset.drop(['Unnamed: 0','Key','occupation'], axis = 1)"
   ]
  },
  {
   "cell_type": "code",
   "execution_count": 15,
   "metadata": {},
   "outputs": [],
   "source": [
    "fresh_data['SYS Diff'] = fresh_data['SYS Fin mmHg'] - fresh_data['SYS Init mmHg']\n",
    "fresh_data['DIA Diff'] = fresh_data['DIA Fin mmHg'] - fresh_data['DIA Init mmHg']\n",
    "fresh_data['Pulse Diff'] = fresh_data['Pulse/Minute Fin'] - fresh_data[' Pulse/Minute Init']\n",
    "fresh_data['Alpha/Beta Ch0'] = fresh_data['Alpha_ch0']/fresh_data['Beta_ch0']\n",
    "fresh_data['Alpha/Beta Ch1'] = fresh_data['Alpha_ch1']/fresh_data['Beta_ch1']\n",
    "fresh_data['Beta/Gamma Ch0'] = fresh_data['Beta_ch0']/fresh_data['Gamma_ch0']\n",
    "fresh_data['Beta/Gamma Ch1'] = fresh_data['Beta_ch1']/fresh_data['Gamma_ch1']\n",
    "fresh_data['Beta/Theta Ch0'] = fresh_data['Beta_ch0']/fresh_data['Theta_ch0']\n",
    "fresh_data['Beta/Theta Ch1'] = fresh_data['Beta_ch1']/fresh_data['Theta_ch1']\n",
    "fresh_data['Theta/Alpha Ch0'] = fresh_data['Theta_ch0']/fresh_data['Alpha_ch0']\n",
    "fresh_data['Theta/Alpha Ch1'] = fresh_data['Theta_ch1']/fresh_data['Alpha_ch1']\n",
    "fresh_data = fresh_data.drop(['SYS Init mmHg',\n",
    "       'DIA Init mmHg', ' Pulse/Minute Init', 'SYS Fin mmHg', 'DIA Fin mmHg','Pulse/Minute Fin','Alpha_ch0', 'Beta_ch0',\n",
    "       'Gamma_ch0', 'Alpha_ch1', 'Beta_ch1', 'Gamma_ch1', 'Theta_ch0','Theta_ch1'], axis = 1)"
   ]
  },
  {
   "cell_type": "code",
   "execution_count": 16,
   "metadata": {},
   "outputs": [],
   "source": [
    "copy = fresh_data"
   ]
  },
  {
   "cell_type": "code",
   "execution_count": 17,
   "metadata": {},
   "outputs": [],
   "source": [
    "delete_rows = copy[(copy['Alpha/Beta Ch0']>2.0) | (copy['Beta/Gamma Ch0']>0.4) | (copy['Beta/Gamma Ch1']>0.5) | (copy['Theta/Alpha Ch0']>4) | (copy['Theta/Alpha Ch1']>7)]"
   ]
  },
  {
   "cell_type": "code",
   "execution_count": 18,
   "metadata": {},
   "outputs": [],
   "source": [
    "copy = copy.drop(delete_rows.index)"
   ]
  },
  {
   "cell_type": "markdown",
   "metadata": {},
   "source": [
    "# Feature Selection from correlation graph"
   ]
  },
  {
   "cell_type": "code",
   "execution_count": 19,
   "metadata": {},
   "outputs": [
    {
     "data": {
      "text/html": [
       "<div>\n",
       "<style scoped>\n",
       "    .dataframe tbody tr th:only-of-type {\n",
       "        vertical-align: middle;\n",
       "    }\n",
       "\n",
       "    .dataframe tbody tr th {\n",
       "        vertical-align: top;\n",
       "    }\n",
       "\n",
       "    .dataframe thead th {\n",
       "        text-align: right;\n",
       "    }\n",
       "</style>\n",
       "<table border=\"1\" class=\"dataframe\">\n",
       "  <thead>\n",
       "    <tr style=\"text-align: right;\">\n",
       "      <th></th>\n",
       "      <th>Age</th>\n",
       "      <th>Score</th>\n",
       "      <th>SYS Diff</th>\n",
       "      <th>DIA Diff</th>\n",
       "      <th>Pulse Diff</th>\n",
       "      <th>Alpha/Beta Ch0</th>\n",
       "      <th>Alpha/Beta Ch1</th>\n",
       "      <th>Beta/Gamma Ch0</th>\n",
       "      <th>Beta/Gamma Ch1</th>\n",
       "      <th>Beta/Theta Ch0</th>\n",
       "      <th>Beta/Theta Ch1</th>\n",
       "      <th>Theta/Alpha Ch0</th>\n",
       "      <th>Theta/Alpha Ch1</th>\n",
       "    </tr>\n",
       "  </thead>\n",
       "  <tbody>\n",
       "    <tr>\n",
       "      <th>Age</th>\n",
       "      <td>1.000000</td>\n",
       "      <td>0.368898</td>\n",
       "      <td>-0.251009</td>\n",
       "      <td>-0.396873</td>\n",
       "      <td>-0.618251</td>\n",
       "      <td>0.005514</td>\n",
       "      <td>-0.076777</td>\n",
       "      <td>-0.523504</td>\n",
       "      <td>-0.456108</td>\n",
       "      <td>0.205263</td>\n",
       "      <td>0.047951</td>\n",
       "      <td>-0.250388</td>\n",
       "      <td>-0.215742</td>\n",
       "    </tr>\n",
       "    <tr>\n",
       "      <th>Score</th>\n",
       "      <td>0.368898</td>\n",
       "      <td>1.000000</td>\n",
       "      <td>-0.029104</td>\n",
       "      <td>-0.546617</td>\n",
       "      <td>-0.252931</td>\n",
       "      <td>0.264054</td>\n",
       "      <td>0.201674</td>\n",
       "      <td>-0.018336</td>\n",
       "      <td>0.071134</td>\n",
       "      <td>-0.084985</td>\n",
       "      <td>-0.382179</td>\n",
       "      <td>-0.237291</td>\n",
       "      <td>-0.006999</td>\n",
       "    </tr>\n",
       "    <tr>\n",
       "      <th>SYS Diff</th>\n",
       "      <td>-0.251009</td>\n",
       "      <td>-0.029104</td>\n",
       "      <td>1.000000</td>\n",
       "      <td>0.552780</td>\n",
       "      <td>0.418333</td>\n",
       "      <td>-0.515701</td>\n",
       "      <td>-0.519365</td>\n",
       "      <td>0.199722</td>\n",
       "      <td>0.150592</td>\n",
       "      <td>0.064648</td>\n",
       "      <td>0.240791</td>\n",
       "      <td>0.182906</td>\n",
       "      <td>-0.083053</td>\n",
       "    </tr>\n",
       "    <tr>\n",
       "      <th>DIA Diff</th>\n",
       "      <td>-0.396873</td>\n",
       "      <td>-0.546617</td>\n",
       "      <td>0.552780</td>\n",
       "      <td>1.000000</td>\n",
       "      <td>0.321640</td>\n",
       "      <td>-0.187771</td>\n",
       "      <td>-0.058474</td>\n",
       "      <td>0.152246</td>\n",
       "      <td>-0.029742</td>\n",
       "      <td>-0.050212</td>\n",
       "      <td>0.210194</td>\n",
       "      <td>0.243058</td>\n",
       "      <td>0.060425</td>\n",
       "    </tr>\n",
       "    <tr>\n",
       "      <th>Pulse Diff</th>\n",
       "      <td>-0.618251</td>\n",
       "      <td>-0.252931</td>\n",
       "      <td>0.418333</td>\n",
       "      <td>0.321640</td>\n",
       "      <td>1.000000</td>\n",
       "      <td>-0.039699</td>\n",
       "      <td>-0.196455</td>\n",
       "      <td>0.318835</td>\n",
       "      <td>0.322227</td>\n",
       "      <td>-0.420014</td>\n",
       "      <td>-0.168125</td>\n",
       "      <td>0.503393</td>\n",
       "      <td>0.130504</td>\n",
       "    </tr>\n",
       "    <tr>\n",
       "      <th>Alpha/Beta Ch0</th>\n",
       "      <td>0.005514</td>\n",
       "      <td>0.264054</td>\n",
       "      <td>-0.515701</td>\n",
       "      <td>-0.187771</td>\n",
       "      <td>-0.039699</td>\n",
       "      <td>1.000000</td>\n",
       "      <td>0.915287</td>\n",
       "      <td>-0.161925</td>\n",
       "      <td>-0.232866</td>\n",
       "      <td>-0.773842</td>\n",
       "      <td>-0.905801</td>\n",
       "      <td>0.413676</td>\n",
       "      <td>0.660718</td>\n",
       "    </tr>\n",
       "    <tr>\n",
       "      <th>Alpha/Beta Ch1</th>\n",
       "      <td>-0.076777</td>\n",
       "      <td>0.201674</td>\n",
       "      <td>-0.519365</td>\n",
       "      <td>-0.058474</td>\n",
       "      <td>-0.196455</td>\n",
       "      <td>0.915287</td>\n",
       "      <td>1.000000</td>\n",
       "      <td>-0.202566</td>\n",
       "      <td>-0.306314</td>\n",
       "      <td>-0.580775</td>\n",
       "      <td>-0.761590</td>\n",
       "      <td>0.212791</td>\n",
       "      <td>0.645430</td>\n",
       "    </tr>\n",
       "    <tr>\n",
       "      <th>Beta/Gamma Ch0</th>\n",
       "      <td>-0.523504</td>\n",
       "      <td>-0.018336</td>\n",
       "      <td>0.199722</td>\n",
       "      <td>0.152246</td>\n",
       "      <td>0.318835</td>\n",
       "      <td>-0.161925</td>\n",
       "      <td>-0.202566</td>\n",
       "      <td>1.000000</td>\n",
       "      <td>0.965158</td>\n",
       "      <td>-0.173942</td>\n",
       "      <td>0.016756</td>\n",
       "      <td>0.163381</td>\n",
       "      <td>-0.081926</td>\n",
       "    </tr>\n",
       "    <tr>\n",
       "      <th>Beta/Gamma Ch1</th>\n",
       "      <td>-0.456108</td>\n",
       "      <td>0.071134</td>\n",
       "      <td>0.150592</td>\n",
       "      <td>-0.029742</td>\n",
       "      <td>0.322227</td>\n",
       "      <td>-0.232866</td>\n",
       "      <td>-0.306314</td>\n",
       "      <td>0.965158</td>\n",
       "      <td>1.000000</td>\n",
       "      <td>-0.081162</td>\n",
       "      <td>0.070017</td>\n",
       "      <td>0.015705</td>\n",
       "      <td>-0.249464</td>\n",
       "    </tr>\n",
       "    <tr>\n",
       "      <th>Beta/Theta Ch0</th>\n",
       "      <td>0.205263</td>\n",
       "      <td>-0.084985</td>\n",
       "      <td>0.064648</td>\n",
       "      <td>-0.050212</td>\n",
       "      <td>-0.420014</td>\n",
       "      <td>-0.773842</td>\n",
       "      <td>-0.580775</td>\n",
       "      <td>-0.173942</td>\n",
       "      <td>-0.081162</td>\n",
       "      <td>1.000000</td>\n",
       "      <td>0.906034</td>\n",
       "      <td>-0.783854</td>\n",
       "      <td>-0.701471</td>\n",
       "    </tr>\n",
       "    <tr>\n",
       "      <th>Beta/Theta Ch1</th>\n",
       "      <td>0.047951</td>\n",
       "      <td>-0.382179</td>\n",
       "      <td>0.240791</td>\n",
       "      <td>0.210194</td>\n",
       "      <td>-0.168125</td>\n",
       "      <td>-0.905801</td>\n",
       "      <td>-0.761590</td>\n",
       "      <td>0.016756</td>\n",
       "      <td>0.070017</td>\n",
       "      <td>0.906034</td>\n",
       "      <td>1.000000</td>\n",
       "      <td>-0.560357</td>\n",
       "      <td>-0.713055</td>\n",
       "    </tr>\n",
       "    <tr>\n",
       "      <th>Theta/Alpha Ch0</th>\n",
       "      <td>-0.250388</td>\n",
       "      <td>-0.237291</td>\n",
       "      <td>0.182906</td>\n",
       "      <td>0.243058</td>\n",
       "      <td>0.503393</td>\n",
       "      <td>0.413676</td>\n",
       "      <td>0.212791</td>\n",
       "      <td>0.163381</td>\n",
       "      <td>0.015705</td>\n",
       "      <td>-0.783854</td>\n",
       "      <td>-0.560357</td>\n",
       "      <td>1.000000</td>\n",
       "      <td>0.773509</td>\n",
       "    </tr>\n",
       "    <tr>\n",
       "      <th>Theta/Alpha Ch1</th>\n",
       "      <td>-0.215742</td>\n",
       "      <td>-0.006999</td>\n",
       "      <td>-0.083053</td>\n",
       "      <td>0.060425</td>\n",
       "      <td>0.130504</td>\n",
       "      <td>0.660718</td>\n",
       "      <td>0.645430</td>\n",
       "      <td>-0.081926</td>\n",
       "      <td>-0.249464</td>\n",
       "      <td>-0.701471</td>\n",
       "      <td>-0.713055</td>\n",
       "      <td>0.773509</td>\n",
       "      <td>1.000000</td>\n",
       "    </tr>\n",
       "  </tbody>\n",
       "</table>\n",
       "</div>"
      ],
      "text/plain": [
       "                      Age     Score  SYS Diff  DIA Diff  Pulse Diff  \\\n",
       "Age              1.000000  0.368898 -0.251009 -0.396873   -0.618251   \n",
       "Score            0.368898  1.000000 -0.029104 -0.546617   -0.252931   \n",
       "SYS Diff        -0.251009 -0.029104  1.000000  0.552780    0.418333   \n",
       "DIA Diff        -0.396873 -0.546617  0.552780  1.000000    0.321640   \n",
       "Pulse Diff      -0.618251 -0.252931  0.418333  0.321640    1.000000   \n",
       "Alpha/Beta Ch0   0.005514  0.264054 -0.515701 -0.187771   -0.039699   \n",
       "Alpha/Beta Ch1  -0.076777  0.201674 -0.519365 -0.058474   -0.196455   \n",
       "Beta/Gamma Ch0  -0.523504 -0.018336  0.199722  0.152246    0.318835   \n",
       "Beta/Gamma Ch1  -0.456108  0.071134  0.150592 -0.029742    0.322227   \n",
       "Beta/Theta Ch0   0.205263 -0.084985  0.064648 -0.050212   -0.420014   \n",
       "Beta/Theta Ch1   0.047951 -0.382179  0.240791  0.210194   -0.168125   \n",
       "Theta/Alpha Ch0 -0.250388 -0.237291  0.182906  0.243058    0.503393   \n",
       "Theta/Alpha Ch1 -0.215742 -0.006999 -0.083053  0.060425    0.130504   \n",
       "\n",
       "                 Alpha/Beta Ch0  Alpha/Beta Ch1  Beta/Gamma Ch0  \\\n",
       "Age                    0.005514       -0.076777       -0.523504   \n",
       "Score                  0.264054        0.201674       -0.018336   \n",
       "SYS Diff              -0.515701       -0.519365        0.199722   \n",
       "DIA Diff              -0.187771       -0.058474        0.152246   \n",
       "Pulse Diff            -0.039699       -0.196455        0.318835   \n",
       "Alpha/Beta Ch0         1.000000        0.915287       -0.161925   \n",
       "Alpha/Beta Ch1         0.915287        1.000000       -0.202566   \n",
       "Beta/Gamma Ch0        -0.161925       -0.202566        1.000000   \n",
       "Beta/Gamma Ch1        -0.232866       -0.306314        0.965158   \n",
       "Beta/Theta Ch0        -0.773842       -0.580775       -0.173942   \n",
       "Beta/Theta Ch1        -0.905801       -0.761590        0.016756   \n",
       "Theta/Alpha Ch0        0.413676        0.212791        0.163381   \n",
       "Theta/Alpha Ch1        0.660718        0.645430       -0.081926   \n",
       "\n",
       "                 Beta/Gamma Ch1  Beta/Theta Ch0  Beta/Theta Ch1  \\\n",
       "Age                   -0.456108        0.205263        0.047951   \n",
       "Score                  0.071134       -0.084985       -0.382179   \n",
       "SYS Diff               0.150592        0.064648        0.240791   \n",
       "DIA Diff              -0.029742       -0.050212        0.210194   \n",
       "Pulse Diff             0.322227       -0.420014       -0.168125   \n",
       "Alpha/Beta Ch0        -0.232866       -0.773842       -0.905801   \n",
       "Alpha/Beta Ch1        -0.306314       -0.580775       -0.761590   \n",
       "Beta/Gamma Ch0         0.965158       -0.173942        0.016756   \n",
       "Beta/Gamma Ch1         1.000000       -0.081162        0.070017   \n",
       "Beta/Theta Ch0        -0.081162        1.000000        0.906034   \n",
       "Beta/Theta Ch1         0.070017        0.906034        1.000000   \n",
       "Theta/Alpha Ch0        0.015705       -0.783854       -0.560357   \n",
       "Theta/Alpha Ch1       -0.249464       -0.701471       -0.713055   \n",
       "\n",
       "                 Theta/Alpha Ch0  Theta/Alpha Ch1  \n",
       "Age                    -0.250388        -0.215742  \n",
       "Score                  -0.237291        -0.006999  \n",
       "SYS Diff                0.182906        -0.083053  \n",
       "DIA Diff                0.243058         0.060425  \n",
       "Pulse Diff              0.503393         0.130504  \n",
       "Alpha/Beta Ch0          0.413676         0.660718  \n",
       "Alpha/Beta Ch1          0.212791         0.645430  \n",
       "Beta/Gamma Ch0          0.163381        -0.081926  \n",
       "Beta/Gamma Ch1          0.015705        -0.249464  \n",
       "Beta/Theta Ch0         -0.783854        -0.701471  \n",
       "Beta/Theta Ch1         -0.560357        -0.713055  \n",
       "Theta/Alpha Ch0         1.000000         0.773509  \n",
       "Theta/Alpha Ch1         0.773509         1.000000  "
      ]
     },
     "execution_count": 19,
     "metadata": {},
     "output_type": "execute_result"
    }
   ],
   "source": [
    "copy.corr()"
   ]
  },
  {
   "cell_type": "code",
   "execution_count": 20,
   "metadata": {},
   "outputs": [
    {
     "data": {
      "text/plain": [
       "<matplotlib.axes._subplots.AxesSubplot at 0xd8df0b0>"
      ]
     },
     "execution_count": 20,
     "metadata": {},
     "output_type": "execute_result"
    },
    {
     "data": {
      "image/png": "[encoded data removed]",
      "text/plain": [
       "<Figure size 1080x1080 with 2 Axes>"
      ]
     },
     "metadata": {
      "needs_background": "light"
     },
     "output_type": "display_data"
    }
   ],
   "source": [
    "fig, ax = plt.subplots(figsize = (15,15))\n",
    "sns.heatmap(copy.corr(), annot = True, linewidths = 0.5, ax = ax)"
   ]
  },
  {
   "cell_type": "code",
   "execution_count": 21,
   "metadata": {},
   "outputs": [],
   "source": [
    "# Saving the data without outliers into a file\n",
    "# Note: This is optional as the data needed for the next command is already stored in data_for_ML.csv\n",
    "\n",
    "copy.to_csv('ML_dataset.csv')"
   ]
  },
  {
   "cell_type": "markdown",
   "metadata": {},
   "source": [
    "# Machine Learning Models"
   ]
  },
  {
   "cell_type": "code",
   "execution_count": 22,
   "metadata": {},
   "outputs": [],
   "source": [
    "data = pd.read_csv('ML_dataset.csv')"
   ]
  },
  {
   "cell_type": "markdown",
   "metadata": {},
   "source": [
    "## KNN"
   ]
  },
  {
   "cell_type": "code",
   "execution_count": 23,
   "metadata": {},
   "outputs": [],
   "source": [
    "from sklearn.model_selection import train_test_split"
   ]
  },
  {
   "cell_type": "code",
   "execution_count": 24,
   "metadata": {},
   "outputs": [],
   "source": [
    "x = data[['DIA Diff','Beta/Theta Ch1']]\n",
    "y = data['Label']"
   ]
  },
  {
   "cell_type": "code",
   "execution_count": 25,
   "metadata": {},
   "outputs": [],
   "source": [
    "x_train, x_test, y_train, y_test = train_test_split(x,y, random_state = 42)"
   ]
  },
  {
   "cell_type": "code",
   "execution_count": 26,
   "metadata": {},
   "outputs": [],
   "source": [
    "from sklearn.neighbors import KNeighborsClassifier\n",
    "\n",
    "knn = KNeighborsClassifier(n_neighbors = 1)"
   ]
  },
  {
   "cell_type": "code",
   "execution_count": 27,
   "metadata": {},
   "outputs": [
    {
     "data": {
      "text/plain": [
       "KNeighborsClassifier(n_neighbors=1)"
      ]
     },
     "execution_count": 27,
     "metadata": {},
     "output_type": "execute_result"
    }
   ],
   "source": [
    "knn.fit(x_train, y_train)"
   ]
  },
  {
   "cell_type": "code",
   "execution_count": 28,
   "metadata": {},
   "outputs": [
    {
     "data": {
      "text/plain": [
       "0.6666666666666666"
      ]
     },
     "execution_count": 28,
     "metadata": {},
     "output_type": "execute_result"
    }
   ],
   "source": [
    "knn.score(x_test, y_test)"
   ]
  },
  {
   "cell_type": "code",
   "execution_count": 29,
   "metadata": {},
   "outputs": [],
   "source": [
    "from sklearn.metrics import confusion_matrix"
   ]
  },
  {
   "cell_type": "code",
   "execution_count": 30,
   "metadata": {},
   "outputs": [
    {
     "data": {
      "text/plain": [
       "array([[0, 0],\n",
       "       [1, 2]], dtype=int64)"
      ]
     },
     "execution_count": 30,
     "metadata": {},
     "output_type": "execute_result"
    }
   ],
   "source": [
    "pred_y = knn.predict(x_test)\n",
    "confusion_matrix(y_test, pred_y)"
   ]
  },
  {
   "cell_type": "markdown",
   "metadata": {},
   "source": [
    "## SVM"
   ]
  },
  {
   "cell_type": "code",
   "execution_count": 31,
   "metadata": {},
   "outputs": [],
   "source": [
    "x = data[['DIA Diff','Beta/Theta Ch1']]\n",
    "y = data['Label']\n",
    "x_train, x_test, y_train, y_test = train_test_split(x,y)"
   ]
  },
  {
   "cell_type": "code",
   "execution_count": 32,
   "metadata": {},
   "outputs": [],
   "source": [
    "from sklearn.svm import SVC\n",
    "svm = SVC(kernel = 'linear')"
   ]
  },
  {
   "cell_type": "code",
   "execution_count": 33,
   "metadata": {},
   "outputs": [
    {
     "data": {
      "text/plain": [
       "SVC(kernel='linear')"
      ]
     },
     "execution_count": 33,
     "metadata": {},
     "output_type": "execute_result"
    }
   ],
   "source": [
    "svm.fit(x_train, y_train)"
   ]
  },
  {
   "cell_type": "code",
   "execution_count": 34,
   "metadata": {},
   "outputs": [
    {
     "data": {
      "text/plain": [
       "1.0"
      ]
     },
     "execution_count": 34,
     "metadata": {},
     "output_type": "execute_result"
    }
   ],
   "source": [
    "svm.score(x_test, y_test)"
   ]
  },
  {
   "cell_type": "code",
   "execution_count": 35,
   "metadata": {},
   "outputs": [
    {
     "data": {
      "text/plain": [
       "array([[1, 0],\n",
       "       [1, 1]], dtype=int64)"
      ]
     },
     "execution_count": 35,
     "metadata": {},
     "output_type": "execute_result"
    }
   ],
   "source": [
    "pred_y = knn.predict(x_test)\n",
    "confusion_matrix(y_test, pred_y)"
   ]
  },
  {
   "cell_type": "markdown",
   "metadata": {},
   "source": [
    "# Kernel SVM"
   ]
  },
  {
   "cell_type": "markdown",
   "metadata": {},
   "source": [
    "### Kernel = Polynomial"
   ]
  },
  {
   "cell_type": "code",
   "execution_count": 36,
   "metadata": {},
   "outputs": [],
   "source": [
    "svmp = SVC(kernel = 'poly', degree = 0)"
   ]
  },
  {
   "cell_type": "code",
   "execution_count": 37,
   "metadata": {},
   "outputs": [
    {
     "data": {
      "text/plain": [
       "SVC(degree=0, kernel='poly')"
      ]
     },
     "execution_count": 37,
     "metadata": {},
     "output_type": "execute_result"
    }
   ],
   "source": [
    "svmp.fit(x_train, y_train)"
   ]
  },
  {
   "cell_type": "code",
   "execution_count": 38,
   "metadata": {},
   "outputs": [
    {
     "data": {
      "text/plain": [
       "0.6666666666666666"
      ]
     },
     "execution_count": 38,
     "metadata": {},
     "output_type": "execute_result"
    }
   ],
   "source": [
    "svmp.score(x_test, y_test)"
   ]
  },
  {
   "cell_type": "code",
   "execution_count": 39,
   "metadata": {},
   "outputs": [
    {
     "data": {
      "text/plain": [
       "array([[1, 0],\n",
       "       [1, 1]], dtype=int64)"
      ]
     },
     "execution_count": 39,
     "metadata": {},
     "output_type": "execute_result"
    }
   ],
   "source": [
    "pred_y = knn.predict(x_test)\n",
    "confusion_matrix(y_test, pred_y)"
   ]
  },
  {
   "cell_type": "markdown",
   "metadata": {},
   "source": [
    "### Kernel = Gaussian"
   ]
  },
  {
   "cell_type": "code",
   "execution_count": 40,
   "metadata": {},
   "outputs": [],
   "source": [
    "svmg = SVC(kernel = 'rbf')"
   ]
  },
  {
   "cell_type": "code",
   "execution_count": 41,
   "metadata": {},
   "outputs": [
    {
     "data": {
      "text/plain": [
       "SVC()"
      ]
     },
     "execution_count": 41,
     "metadata": {},
     "output_type": "execute_result"
    }
   ],
   "source": [
    "svmg.fit(x_train, y_train)"
   ]
  },
  {
   "cell_type": "code",
   "execution_count": 42,
   "metadata": {},
   "outputs": [
    {
     "data": {
      "text/plain": [
       "0.6666666666666666"
      ]
     },
     "execution_count": 42,
     "metadata": {},
     "output_type": "execute_result"
    }
   ],
   "source": [
    "svmg.score(x_test, y_test)"
   ]
  },
  {
   "cell_type": "code",
   "execution_count": 43,
   "metadata": {},
   "outputs": [
    {
     "data": {
      "text/plain": [
       "array([[1, 0],\n",
       "       [1, 1]], dtype=int64)"
      ]
     },
     "execution_count": 43,
     "metadata": {},
     "output_type": "execute_result"
    }
   ],
   "source": [
    "pred_y = knn.predict(x_test)\n",
    "confusion_matrix(y_test, pred_y)"
   ]
  },
  {
   "cell_type": "markdown",
   "metadata": {},
   "source": [
    "### Kernel = Sigmoid"
   ]
  },
  {
   "cell_type": "code",
   "execution_count": 44,
   "metadata": {},
   "outputs": [],
   "source": [
    "svms = SVC(kernel = 'sigmoid')"
   ]
  },
  {
   "cell_type": "code",
   "execution_count": 45,
   "metadata": {},
   "outputs": [
    {
     "data": {
      "text/plain": [
       "SVC(kernel='sigmoid')"
      ]
     },
     "execution_count": 45,
     "metadata": {},
     "output_type": "execute_result"
    }
   ],
   "source": [
    "svms.fit(x_train, y_train)"
   ]
  },
  {
   "cell_type": "code",
   "execution_count": 46,
   "metadata": {},
   "outputs": [
    {
     "data": {
      "text/plain": [
       "0.6666666666666666"
      ]
     },
     "execution_count": 46,
     "metadata": {},
     "output_type": "execute_result"
    }
   ],
   "source": [
    "svms.score(x_test, y_test)"
   ]
  },
  {
   "cell_type": "code",
   "execution_count": 47,
   "metadata": {},
   "outputs": [
    {
     "data": {
      "text/plain": [
       "array([[1, 0],\n",
       "       [1, 1]], dtype=int64)"
      ]
     },
     "execution_count": 47,
     "metadata": {},
     "output_type": "execute_result"
    }
   ],
   "source": [
    "pred_y = knn.predict(x_test)\n",
    "confusion_matrix(y_test, pred_y)"
   ]
  },
  {
   "cell_type": "markdown",
   "metadata": {},
   "source": [
    "# Logistic Regression"
   ]
  },
  {
   "cell_type": "code",
   "execution_count": 48,
   "metadata": {},
   "outputs": [],
   "source": [
    "x = data[['DIA Diff','Beta/Theta Ch1']]\n",
    "y = data['Label']\n",
    "x_train, x_test, y_train, y_test = train_test_split(x,y)"
   ]
  },
  {
   "cell_type": "code",
   "execution_count": 49,
   "metadata": {},
   "outputs": [],
   "source": [
    "from sklearn.linear_model import LogisticRegression"
   ]
  },
  {
   "cell_type": "code",
   "execution_count": 50,
   "metadata": {},
   "outputs": [],
   "source": [
    "log_reg = LogisticRegression()"
   ]
  },
  {
   "cell_type": "code",
   "execution_count": 51,
   "metadata": {},
   "outputs": [
    {
     "data": {
      "text/plain": [
       "LogisticRegression()"
      ]
     },
     "execution_count": 51,
     "metadata": {},
     "output_type": "execute_result"
    }
   ],
   "source": [
    "log_reg.fit(x_train, y_train)"
   ]
  },
  {
   "cell_type": "code",
   "execution_count": 52,
   "metadata": {},
   "outputs": [
    {
     "data": {
      "text/plain": [
       "1.0"
      ]
     },
     "execution_count": 52,
     "metadata": {},
     "output_type": "execute_result"
    }
   ],
   "source": [
    "log_reg.score(x_test, y_test)"
   ]
  },
  {
   "cell_type": "code",
   "execution_count": 53,
   "metadata": {},
   "outputs": [
    {
     "data": {
      "text/plain": [
       "array([[3]], dtype=int64)"
      ]
     },
     "execution_count": 53,
     "metadata": {},
     "output_type": "execute_result"
    }
   ],
   "source": [
    "pred_y = knn.predict(x_test)\n",
    "confusion_matrix(y_test, pred_y)"
   ]
  },
  {
   "cell_type": "markdown",
   "metadata": {},
   "source": [
    "# Decision Tree Classifier"
   ]
  },
  {
   "cell_type": "code",
   "execution_count": 54,
   "metadata": {},
   "outputs": [],
   "source": [
    "from sklearn.tree import DecisionTreeClassifier\n",
    "from sklearn.tree import DecisionTreeRegressor"
   ]
  },
  {
   "cell_type": "code",
   "execution_count": 55,
   "metadata": {},
   "outputs": [],
   "source": [
    "dt_model = DecisionTreeClassifier(random_state = 42)"
   ]
  },
  {
   "cell_type": "code",
   "execution_count": 56,
   "metadata": {},
   "outputs": [
    {
     "data": {
      "text/plain": [
       "DecisionTreeClassifier(random_state=42)"
      ]
     },
     "execution_count": 56,
     "metadata": {},
     "output_type": "execute_result"
    }
   ],
   "source": [
    "dt_model.fit(x_train, y_train)"
   ]
  },
  {
   "cell_type": "code",
   "execution_count": 57,
   "metadata": {},
   "outputs": [
    {
     "data": {
      "text/plain": [
       "1.0"
      ]
     },
     "execution_count": 57,
     "metadata": {},
     "output_type": "execute_result"
    }
   ],
   "source": [
    "dt_model.score(x_test, y_test)"
   ]
  },
  {
   "cell_type": "code",
   "execution_count": 58,
   "metadata": {},
   "outputs": [
    {
     "data": {
      "text/plain": [
       "array([[3]], dtype=int64)"
      ]
     },
     "execution_count": 58,
     "metadata": {},
     "output_type": "execute_result"
    }
   ],
   "source": [
    "pred_y = knn.predict(x_test)\n",
    "confusion_matrix(y_test, pred_y)"
   ]
  },
  {
   "cell_type": "markdown",
   "metadata": {},
   "source": [
    "#### Note: The performances of above models are dependent on the sample size and random sampling of the data and may vary for each iteration"
   ]
  },
  {
   "cell_type": "code",
   "execution_count": null,
   "metadata": {},
   "outputs": [],
   "source": []
  }
 ],
 "metadata": {
  "kernelspec": {
   "display_name": "Python 3.7.2 32-bit",
   "language": "python",
   "name": "python37232bitb10d8bd6f2614a34b9f84e451a73c1fe"
  },
  "language_info": {
   "codemirror_mode": {
    "name": "ipython",
    "version": 3
   },
   "file_extension": ".py",
   "mimetype": "text/x-python",
   "name": "python",
   "nbconvert_exporter": "python",
   "pygments_lexer": "ipython3",
   "version": "3.7.2"
  }
 },
 "nbformat": 4,
 "nbformat_minor": 4
}
