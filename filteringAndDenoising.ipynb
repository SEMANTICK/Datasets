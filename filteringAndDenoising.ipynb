{
 "cells": [
  {
   "cell_type": "code",
   "execution_count": 1,
   "metadata": {},
   "outputs": [],
   "source": [
    "import numpy as np\n",
    "import pandas as pd\n",
    "import seaborn as sns\n",
    "import datetime as dt\n",
    "from brainflow.data_filter import DataFilter, FilterTypes, AggOperations"
   ]
  },
  {
   "cell_type": "code",
   "execution_count": 2,
   "metadata": {},
   "outputs": [],
   "source": [
    "dataset = pd.read_csv('A001_RELAX.csv')"
   ]
  },
  {
   "cell_type": "code",
   "execution_count": 3,
   "metadata": {},
   "outputs": [
    {
     "data": {
      "text/html": [
       "<div>\n",
       "<style scoped>\n",
       "    .dataframe tbody tr th:only-of-type {\n",
       "        vertical-align: middle;\n",
       "    }\n",
       "\n",
       "    .dataframe tbody tr th {\n",
       "        vertical-align: top;\n",
       "    }\n",
       "\n",
       "    .dataframe thead th {\n",
       "        text-align: right;\n",
       "    }\n",
       "</style>\n",
       "<table border=\"1\" class=\"dataframe\">\n",
       "  <thead>\n",
       "    <tr style=\"text-align: right;\">\n",
       "      <th></th>\n",
       "      <th>Unnamed: 0</th>\n",
       "      <th>Sample Index</th>\n",
       "      <th>EXG Channel 0</th>\n",
       "      <th>EXG Channel 1</th>\n",
       "      <th>EXG Channel 2</th>\n",
       "      <th>EXG Channel 3</th>\n",
       "      <th>EXG Channel 4</th>\n",
       "      <th>EXG Channel 5</th>\n",
       "      <th>EXG Channel 6</th>\n",
       "      <th>EXG Channel 7</th>\n",
       "      <th>Timestamp</th>\n",
       "      <th>Timestamp (Formatted)</th>\n",
       "    </tr>\n",
       "  </thead>\n",
       "  <tbody>\n",
       "    <tr>\n",
       "      <th>0</th>\n",
       "      <td>0</td>\n",
       "      <td>75.0</td>\n",
       "      <td>41172.785156</td>\n",
       "      <td>-568.874207</td>\n",
       "      <td>-20473.302734</td>\n",
       "      <td>-18087.277344</td>\n",
       "      <td>36842.601562</td>\n",
       "      <td>-17150.515625</td>\n",
       "      <td>30402.126953</td>\n",
       "      <td>34801.531250</td>\n",
       "      <td>1.607436e+09</td>\n",
       "      <td>2020-12-08 19:24:02.088</td>\n",
       "    </tr>\n",
       "    <tr>\n",
       "      <th>1</th>\n",
       "      <td>1</td>\n",
       "      <td>76.0</td>\n",
       "      <td>41235.414062</td>\n",
       "      <td>-11457.302734</td>\n",
       "      <td>-24090.552734</td>\n",
       "      <td>-22627.765625</td>\n",
       "      <td>36675.097656</td>\n",
       "      <td>-21152.550781</td>\n",
       "      <td>30691.759766</td>\n",
       "      <td>34648.800781</td>\n",
       "      <td>1.607436e+09</td>\n",
       "      <td>2020-12-08 19:24:02.088</td>\n",
       "    </tr>\n",
       "    <tr>\n",
       "      <th>2</th>\n",
       "      <td>2</td>\n",
       "      <td>77.0</td>\n",
       "      <td>41535.550781</td>\n",
       "      <td>-26242.712891</td>\n",
       "      <td>-27323.128906</td>\n",
       "      <td>-27170.890625</td>\n",
       "      <td>36393.242188</td>\n",
       "      <td>-21653.564453</td>\n",
       "      <td>31119.238281</td>\n",
       "      <td>34546.476562</td>\n",
       "      <td>1.607436e+09</td>\n",
       "      <td>2020-12-08 19:24:02.088</td>\n",
       "    </tr>\n",
       "    <tr>\n",
       "      <th>3</th>\n",
       "      <td>3</td>\n",
       "      <td>78.0</td>\n",
       "      <td>41614.117188</td>\n",
       "      <td>-27117.068359</td>\n",
       "      <td>-27394.609375</td>\n",
       "      <td>-27311.283203</td>\n",
       "      <td>36384.546875</td>\n",
       "      <td>-19474.404297</td>\n",
       "      <td>31103.099609</td>\n",
       "      <td>34605.507812</td>\n",
       "      <td>1.607436e+09</td>\n",
       "      <td>2020-12-08 19:24:02.088</td>\n",
       "    </tr>\n",
       "    <tr>\n",
       "      <th>4</th>\n",
       "      <td>4</td>\n",
       "      <td>79.0</td>\n",
       "      <td>41469.257812</td>\n",
       "      <td>-18650.541016</td>\n",
       "      <td>-25384.181641</td>\n",
       "      <td>-24168.851562</td>\n",
       "      <td>36598.765625</td>\n",
       "      <td>-17332.435547</td>\n",
       "      <td>30806.939453</td>\n",
       "      <td>34728.687500</td>\n",
       "      <td>1.607436e+09</td>\n",
       "      <td>2020-12-08 19:24:02.088</td>\n",
       "    </tr>\n",
       "  </tbody>\n",
       "</table>\n",
       "</div>"
      ],
      "text/plain": [
       "   Unnamed: 0  Sample Index   EXG Channel 0   EXG Channel 1   EXG Channel 2  \\\n",
       "0           0          75.0    41172.785156     -568.874207   -20473.302734   \n",
       "1           1          76.0    41235.414062   -11457.302734   -24090.552734   \n",
       "2           2          77.0    41535.550781   -26242.712891   -27323.128906   \n",
       "3           3          78.0    41614.117188   -27117.068359   -27394.609375   \n",
       "4           4          79.0    41469.257812   -18650.541016   -25384.181641   \n",
       "\n",
       "    EXG Channel 3   EXG Channel 4   EXG Channel 5   EXG Channel 6  \\\n",
       "0   -18087.277344    36842.601562   -17150.515625    30402.126953   \n",
       "1   -22627.765625    36675.097656   -21152.550781    30691.759766   \n",
       "2   -27170.890625    36393.242188   -21653.564453    31119.238281   \n",
       "3   -27311.283203    36384.546875   -19474.404297    31103.099609   \n",
       "4   -24168.851562    36598.765625   -17332.435547    30806.939453   \n",
       "\n",
       "    EXG Channel 7     Timestamp     Timestamp (Formatted)  \n",
       "0    34801.531250  1.607436e+09   2020-12-08 19:24:02.088  \n",
       "1    34648.800781  1.607436e+09   2020-12-08 19:24:02.088  \n",
       "2    34546.476562  1.607436e+09   2020-12-08 19:24:02.088  \n",
       "3    34605.507812  1.607436e+09   2020-12-08 19:24:02.088  \n",
       "4    34728.687500  1.607436e+09   2020-12-08 19:24:02.088  "
      ]
     },
     "execution_count": 3,
     "metadata": {},
     "output_type": "execute_result"
    }
   ],
   "source": [
    "dataset.head()"
   ]
  },
  {
   "cell_type": "code",
   "execution_count": 4,
   "metadata": {},
   "outputs": [
    {
     "data": {
      "text/plain": [
       "Index(['Unnamed: 0', 'Sample Index', ' EXG Channel 0', ' EXG Channel 1',\n",
       "       ' EXG Channel 2', ' EXG Channel 3', ' EXG Channel 4', ' EXG Channel 5',\n",
       "       ' EXG Channel 6', ' EXG Channel 7', ' Timestamp',\n",
       "       ' Timestamp (Formatted)'],\n",
       "      dtype='object')"
      ]
     },
     "execution_count": 4,
     "metadata": {},
     "output_type": "execute_result"
    }
   ],
   "source": [
    "dataset.columns"
   ]
  },
  {
   "cell_type": "code",
   "execution_count": 5,
   "metadata": {},
   "outputs": [],
   "source": [
    "dataset = dataset.drop(['Sample Index','Unnamed: 0',' Timestamp'], axis=1)"
   ]
  },
  {
   "cell_type": "code",
   "execution_count": 6,
   "metadata": {},
   "outputs": [
    {
     "data": {
      "text/html": [
       "<div>\n",
       "<style scoped>\n",
       "    .dataframe tbody tr th:only-of-type {\n",
       "        vertical-align: middle;\n",
       "    }\n",
       "\n",
       "    .dataframe tbody tr th {\n",
       "        vertical-align: top;\n",
       "    }\n",
       "\n",
       "    .dataframe thead th {\n",
       "        text-align: right;\n",
       "    }\n",
       "</style>\n",
       "<table border=\"1\" class=\"dataframe\">\n",
       "  <thead>\n",
       "    <tr style=\"text-align: right;\">\n",
       "      <th></th>\n",
       "      <th>EXG Channel 0</th>\n",
       "      <th>EXG Channel 1</th>\n",
       "      <th>EXG Channel 2</th>\n",
       "      <th>EXG Channel 3</th>\n",
       "      <th>EXG Channel 4</th>\n",
       "      <th>EXG Channel 5</th>\n",
       "      <th>EXG Channel 6</th>\n",
       "      <th>EXG Channel 7</th>\n",
       "      <th>Timestamp (Formatted)</th>\n",
       "    </tr>\n",
       "  </thead>\n",
       "  <tbody>\n",
       "    <tr>\n",
       "      <th>0</th>\n",
       "      <td>41172.785156</td>\n",
       "      <td>-568.874207</td>\n",
       "      <td>-20473.302734</td>\n",
       "      <td>-18087.277344</td>\n",
       "      <td>36842.601562</td>\n",
       "      <td>-17150.515625</td>\n",
       "      <td>30402.126953</td>\n",
       "      <td>34801.531250</td>\n",
       "      <td>2020-12-08 19:24:02.088</td>\n",
       "    </tr>\n",
       "    <tr>\n",
       "      <th>1</th>\n",
       "      <td>41235.414062</td>\n",
       "      <td>-11457.302734</td>\n",
       "      <td>-24090.552734</td>\n",
       "      <td>-22627.765625</td>\n",
       "      <td>36675.097656</td>\n",
       "      <td>-21152.550781</td>\n",
       "      <td>30691.759766</td>\n",
       "      <td>34648.800781</td>\n",
       "      <td>2020-12-08 19:24:02.088</td>\n",
       "    </tr>\n",
       "    <tr>\n",
       "      <th>2</th>\n",
       "      <td>41535.550781</td>\n",
       "      <td>-26242.712891</td>\n",
       "      <td>-27323.128906</td>\n",
       "      <td>-27170.890625</td>\n",
       "      <td>36393.242188</td>\n",
       "      <td>-21653.564453</td>\n",
       "      <td>31119.238281</td>\n",
       "      <td>34546.476562</td>\n",
       "      <td>2020-12-08 19:24:02.088</td>\n",
       "    </tr>\n",
       "    <tr>\n",
       "      <th>3</th>\n",
       "      <td>41614.117188</td>\n",
       "      <td>-27117.068359</td>\n",
       "      <td>-27394.609375</td>\n",
       "      <td>-27311.283203</td>\n",
       "      <td>36384.546875</td>\n",
       "      <td>-19474.404297</td>\n",
       "      <td>31103.099609</td>\n",
       "      <td>34605.507812</td>\n",
       "      <td>2020-12-08 19:24:02.088</td>\n",
       "    </tr>\n",
       "    <tr>\n",
       "      <th>4</th>\n",
       "      <td>41469.257812</td>\n",
       "      <td>-18650.541016</td>\n",
       "      <td>-25384.181641</td>\n",
       "      <td>-24168.851562</td>\n",
       "      <td>36598.765625</td>\n",
       "      <td>-17332.435547</td>\n",
       "      <td>30806.939453</td>\n",
       "      <td>34728.687500</td>\n",
       "      <td>2020-12-08 19:24:02.088</td>\n",
       "    </tr>\n",
       "  </tbody>\n",
       "</table>\n",
       "</div>"
      ],
      "text/plain": [
       "    EXG Channel 0   EXG Channel 1   EXG Channel 2   EXG Channel 3  \\\n",
       "0    41172.785156     -568.874207   -20473.302734   -18087.277344   \n",
       "1    41235.414062   -11457.302734   -24090.552734   -22627.765625   \n",
       "2    41535.550781   -26242.712891   -27323.128906   -27170.890625   \n",
       "3    41614.117188   -27117.068359   -27394.609375   -27311.283203   \n",
       "4    41469.257812   -18650.541016   -25384.181641   -24168.851562   \n",
       "\n",
       "    EXG Channel 4   EXG Channel 5   EXG Channel 6   EXG Channel 7  \\\n",
       "0    36842.601562   -17150.515625    30402.126953    34801.531250   \n",
       "1    36675.097656   -21152.550781    30691.759766    34648.800781   \n",
       "2    36393.242188   -21653.564453    31119.238281    34546.476562   \n",
       "3    36384.546875   -19474.404297    31103.099609    34605.507812   \n",
       "4    36598.765625   -17332.435547    30806.939453    34728.687500   \n",
       "\n",
       "      Timestamp (Formatted)  \n",
       "0   2020-12-08 19:24:02.088  \n",
       "1   2020-12-08 19:24:02.088  \n",
       "2   2020-12-08 19:24:02.088  \n",
       "3   2020-12-08 19:24:02.088  \n",
       "4   2020-12-08 19:24:02.088  "
      ]
     },
     "execution_count": 6,
     "metadata": {},
     "output_type": "execute_result"
    }
   ],
   "source": [
    "dataset.head()"
   ]
  },
  {
   "cell_type": "code",
   "execution_count": 7,
   "metadata": {},
   "outputs": [],
   "source": [
    "dataset[' Timestamp (Formatted)'] = pd.to_datetime(dataset[' Timestamp (Formatted)'])"
   ]
  },
  {
   "cell_type": "code",
   "execution_count": 8,
   "metadata": {},
   "outputs": [
    {
     "data": {
      "text/html": [
       "<div>\n",
       "<style scoped>\n",
       "    .dataframe tbody tr th:only-of-type {\n",
       "        vertical-align: middle;\n",
       "    }\n",
       "\n",
       "    .dataframe tbody tr th {\n",
       "        vertical-align: top;\n",
       "    }\n",
       "\n",
       "    .dataframe thead th {\n",
       "        text-align: right;\n",
       "    }\n",
       "</style>\n",
       "<table border=\"1\" class=\"dataframe\">\n",
       "  <thead>\n",
       "    <tr style=\"text-align: right;\">\n",
       "      <th></th>\n",
       "      <th>EXG Channel 0</th>\n",
       "      <th>EXG Channel 1</th>\n",
       "      <th>EXG Channel 2</th>\n",
       "      <th>EXG Channel 3</th>\n",
       "      <th>EXG Channel 4</th>\n",
       "      <th>EXG Channel 5</th>\n",
       "      <th>EXG Channel 6</th>\n",
       "      <th>EXG Channel 7</th>\n",
       "    </tr>\n",
       "  </thead>\n",
       "  <tbody>\n",
       "    <tr>\n",
       "      <th>count</th>\n",
       "      <td>34939.000000</td>\n",
       "      <td>34939.000000</td>\n",
       "      <td>34939.000000</td>\n",
       "      <td>34939.000000</td>\n",
       "      <td>34939.000000</td>\n",
       "      <td>34939.000000</td>\n",
       "      <td>34939.000000</td>\n",
       "      <td>34939.000000</td>\n",
       "    </tr>\n",
       "    <tr>\n",
       "      <th>mean</th>\n",
       "      <td>44920.870907</td>\n",
       "      <td>60228.169222</td>\n",
       "      <td>-26951.240353</td>\n",
       "      <td>-24288.519174</td>\n",
       "      <td>41226.553232</td>\n",
       "      <td>-19157.427593</td>\n",
       "      <td>33290.189714</td>\n",
       "      <td>36216.322635</td>\n",
       "    </tr>\n",
       "    <tr>\n",
       "      <th>std</th>\n",
       "      <td>1619.169817</td>\n",
       "      <td>17054.070020</td>\n",
       "      <td>3039.178142</td>\n",
       "      <td>4122.196835</td>\n",
       "      <td>2858.783855</td>\n",
       "      <td>2315.394028</td>\n",
       "      <td>1792.234854</td>\n",
       "      <td>1851.487647</td>\n",
       "    </tr>\n",
       "    <tr>\n",
       "      <th>min</th>\n",
       "      <td>0.000000</td>\n",
       "      <td>-27263.472656</td>\n",
       "      <td>-36918.351562</td>\n",
       "      <td>-35880.808594</td>\n",
       "      <td>0.000000</td>\n",
       "      <td>-23188.972656</td>\n",
       "      <td>0.000000</td>\n",
       "      <td>0.000000</td>\n",
       "    </tr>\n",
       "    <tr>\n",
       "      <th>25%</th>\n",
       "      <td>44167.548828</td>\n",
       "      <td>44718.228516</td>\n",
       "      <td>-28934.333008</td>\n",
       "      <td>-27651.128906</td>\n",
       "      <td>38723.769531</td>\n",
       "      <td>-21109.846680</td>\n",
       "      <td>32465.773438</td>\n",
       "      <td>35409.441406</td>\n",
       "    </tr>\n",
       "    <tr>\n",
       "      <th>50%</th>\n",
       "      <td>44406.296875</td>\n",
       "      <td>50224.414062</td>\n",
       "      <td>-27676.957031</td>\n",
       "      <td>-24861.710938</td>\n",
       "      <td>39382.765625</td>\n",
       "      <td>-19399.324219</td>\n",
       "      <td>32719.578125</td>\n",
       "      <td>35658.609375</td>\n",
       "    </tr>\n",
       "    <tr>\n",
       "      <th>75%</th>\n",
       "      <td>44863.201172</td>\n",
       "      <td>79828.156250</td>\n",
       "      <td>-24332.890625</td>\n",
       "      <td>-20650.619141</td>\n",
       "      <td>43590.861328</td>\n",
       "      <td>-17350.250000</td>\n",
       "      <td>33076.736328</td>\n",
       "      <td>35846.228516</td>\n",
       "    </tr>\n",
       "    <tr>\n",
       "      <th>max</th>\n",
       "      <td>51553.425781</td>\n",
       "      <td>82763.007812</td>\n",
       "      <td>0.000000</td>\n",
       "      <td>0.000000</td>\n",
       "      <td>47006.253906</td>\n",
       "      <td>0.000000</td>\n",
       "      <td>40764.953125</td>\n",
       "      <td>43832.507812</td>\n",
       "    </tr>\n",
       "  </tbody>\n",
       "</table>\n",
       "</div>"
      ],
      "text/plain": [
       "        EXG Channel 0   EXG Channel 1   EXG Channel 2   EXG Channel 3  \\\n",
       "count    34939.000000    34939.000000    34939.000000    34939.000000   \n",
       "mean     44920.870907    60228.169222   -26951.240353   -24288.519174   \n",
       "std       1619.169817    17054.070020     3039.178142     4122.196835   \n",
       "min          0.000000   -27263.472656   -36918.351562   -35880.808594   \n",
       "25%      44167.548828    44718.228516   -28934.333008   -27651.128906   \n",
       "50%      44406.296875    50224.414062   -27676.957031   -24861.710938   \n",
       "75%      44863.201172    79828.156250   -24332.890625   -20650.619141   \n",
       "max      51553.425781    82763.007812        0.000000        0.000000   \n",
       "\n",
       "        EXG Channel 4   EXG Channel 5   EXG Channel 6   EXG Channel 7  \n",
       "count    34939.000000    34939.000000    34939.000000    34939.000000  \n",
       "mean     41226.553232   -19157.427593    33290.189714    36216.322635  \n",
       "std       2858.783855     2315.394028     1792.234854     1851.487647  \n",
       "min          0.000000   -23188.972656        0.000000        0.000000  \n",
       "25%      38723.769531   -21109.846680    32465.773438    35409.441406  \n",
       "50%      39382.765625   -19399.324219    32719.578125    35658.609375  \n",
       "75%      43590.861328   -17350.250000    33076.736328    35846.228516  \n",
       "max      47006.253906        0.000000    40764.953125    43832.507812  "
      ]
     },
     "execution_count": 8,
     "metadata": {},
     "output_type": "execute_result"
    }
   ],
   "source": [
    "dataset.describe()"
   ]
  },
  {
   "cell_type": "code",
   "execution_count": 9,
   "metadata": {},
   "outputs": [
    {
     "name": "stdout",
     "output_type": "stream",
     "text": [
      "<class 'pandas.core.frame.DataFrame'>\n",
      "RangeIndex: 34939 entries, 0 to 34938\n",
      "Data columns (total 9 columns):\n",
      " #   Column                  Non-Null Count  Dtype         \n",
      "---  ------                  --------------  -----         \n",
      " 0    EXG Channel 0          34939 non-null  float64       \n",
      " 1    EXG Channel 1          34939 non-null  float64       \n",
      " 2    EXG Channel 2          34939 non-null  float64       \n",
      " 3    EXG Channel 3          34939 non-null  float64       \n",
      " 4    EXG Channel 4          34939 non-null  float64       \n",
      " 5    EXG Channel 5          34939 non-null  float64       \n",
      " 6    EXG Channel 6          34939 non-null  float64       \n",
      " 7    EXG Channel 7          34939 non-null  float64       \n",
      " 8    Timestamp (Formatted)  34939 non-null  datetime64[ns]\n",
      "dtypes: datetime64[ns](1), float64(8)\n",
      "memory usage: 2.4 MB\n"
     ]
    }
   ],
   "source": [
    "dataset.info()"
   ]
  },
  {
   "cell_type": "code",
   "execution_count": 10,
   "metadata": {},
   "outputs": [],
   "source": [
    "testChannel = pd.DataFrame(dataset[' EXG Channel 0'])"
   ]
  },
  {
   "cell_type": "code",
   "execution_count": 11,
   "metadata": {},
   "outputs": [
    {
     "data": {
      "text/html": [
       "<div>\n",
       "<style scoped>\n",
       "    .dataframe tbody tr th:only-of-type {\n",
       "        vertical-align: middle;\n",
       "    }\n",
       "\n",
       "    .dataframe tbody tr th {\n",
       "        vertical-align: top;\n",
       "    }\n",
       "\n",
       "    .dataframe thead th {\n",
       "        text-align: right;\n",
       "    }\n",
       "</style>\n",
       "<table border=\"1\" class=\"dataframe\">\n",
       "  <thead>\n",
       "    <tr style=\"text-align: right;\">\n",
       "      <th></th>\n",
       "      <th>EXG Channel 0</th>\n",
       "    </tr>\n",
       "  </thead>\n",
       "  <tbody>\n",
       "    <tr>\n",
       "      <th>0</th>\n",
       "      <td>41172.785156</td>\n",
       "    </tr>\n",
       "    <tr>\n",
       "      <th>1</th>\n",
       "      <td>41235.414062</td>\n",
       "    </tr>\n",
       "    <tr>\n",
       "      <th>2</th>\n",
       "      <td>41535.550781</td>\n",
       "    </tr>\n",
       "    <tr>\n",
       "      <th>3</th>\n",
       "      <td>41614.117188</td>\n",
       "    </tr>\n",
       "    <tr>\n",
       "      <th>4</th>\n",
       "      <td>41469.257812</td>\n",
       "    </tr>\n",
       "    <tr>\n",
       "      <th>...</th>\n",
       "      <td>...</td>\n",
       "    </tr>\n",
       "    <tr>\n",
       "      <th>34934</th>\n",
       "      <td>44692.222656</td>\n",
       "    </tr>\n",
       "    <tr>\n",
       "      <th>34935</th>\n",
       "      <td>44820.542969</td>\n",
       "    </tr>\n",
       "    <tr>\n",
       "      <th>34936</th>\n",
       "      <td>44800.851562</td>\n",
       "    </tr>\n",
       "    <tr>\n",
       "      <th>34937</th>\n",
       "      <td>44641.640625</td>\n",
       "    </tr>\n",
       "    <tr>\n",
       "      <th>34938</th>\n",
       "      <td>44522.929688</td>\n",
       "    </tr>\n",
       "  </tbody>\n",
       "</table>\n",
       "<p>34939 rows × 1 columns</p>\n",
       "</div>"
      ],
      "text/plain": [
       "        EXG Channel 0\n",
       "0        41172.785156\n",
       "1        41235.414062\n",
       "2        41535.550781\n",
       "3        41614.117188\n",
       "4        41469.257812\n",
       "...               ...\n",
       "34934    44692.222656\n",
       "34935    44820.542969\n",
       "34936    44800.851562\n",
       "34937    44641.640625\n",
       "34938    44522.929688\n",
       "\n",
       "[34939 rows x 1 columns]"
      ]
     },
     "execution_count": 11,
     "metadata": {},
     "output_type": "execute_result"
    }
   ],
   "source": [
    "testChannel"
   ]
  },
  {
   "cell_type": "markdown",
   "metadata": {},
   "source": [
    "## Follow the below steps to filter the noise of the signals\n",
    "### 1) cancel the gain of the signal\n",
    "### 2) apply 3rd order highpass filter using brainflow code snippet\n",
    "### 3) apply 3rd order low pass filter using brainflow code snippets\n",
    "### 4) get RMS voltage of the signals by multiplying it by 0.707 "
   ]
  },
  {
   "cell_type": "code",
   "execution_count": 12,
   "metadata": {},
   "outputs": [],
   "source": [
    "testChannel[' EXG Channel 0'] = testChannel[' EXG Channel 0']/24"
   ]
  },
  {
   "cell_type": "code",
   "execution_count": 13,
   "metadata": {},
   "outputs": [
    {
     "data": {
      "text/html": [
       "<div>\n",
       "<style scoped>\n",
       "    .dataframe tbody tr th:only-of-type {\n",
       "        vertical-align: middle;\n",
       "    }\n",
       "\n",
       "    .dataframe tbody tr th {\n",
       "        vertical-align: top;\n",
       "    }\n",
       "\n",
       "    .dataframe thead th {\n",
       "        text-align: right;\n",
       "    }\n",
       "</style>\n",
       "<table border=\"1\" class=\"dataframe\">\n",
       "  <thead>\n",
       "    <tr style=\"text-align: right;\">\n",
       "      <th></th>\n",
       "      <th>EXG Channel 0</th>\n",
       "    </tr>\n",
       "  </thead>\n",
       "  <tbody>\n",
       "    <tr>\n",
       "      <th>0</th>\n",
       "      <td>1715.532715</td>\n",
       "    </tr>\n",
       "    <tr>\n",
       "      <th>1</th>\n",
       "      <td>1718.142253</td>\n",
       "    </tr>\n",
       "    <tr>\n",
       "      <th>2</th>\n",
       "      <td>1730.647949</td>\n",
       "    </tr>\n",
       "    <tr>\n",
       "      <th>3</th>\n",
       "      <td>1733.921549</td>\n",
       "    </tr>\n",
       "    <tr>\n",
       "      <th>4</th>\n",
       "      <td>1727.885742</td>\n",
       "    </tr>\n",
       "  </tbody>\n",
       "</table>\n",
       "</div>"
      ],
      "text/plain": [
       "    EXG Channel 0\n",
       "0     1715.532715\n",
       "1     1718.142253\n",
       "2     1730.647949\n",
       "3     1733.921549\n",
       "4     1727.885742"
      ]
     },
     "execution_count": 13,
     "metadata": {},
     "output_type": "execute_result"
    }
   ],
   "source": [
    "testChannel.head()"
   ]
  },
  {
   "cell_type": "code",
   "execution_count": 14,
   "metadata": {},
   "outputs": [],
   "source": [
    "test1 = testChannel[' EXG Channel 0'].values"
   ]
  },
  {
   "cell_type": "markdown",
   "metadata": {},
   "source": [
    "##### syntax for highpass filter \n",
    "DataFilter.perform_highpass(data = test1, sampling_rate = 250, cutoff = 0.3, order = 4, filter_type = FilterTypes.BUTTERWORTH.value, ripple = 0)\n"
   ]
  },
  {
   "cell_type": "code",
   "execution_count": 15,
   "metadata": {},
   "outputs": [],
   "source": [
    "DataFilter.perform_highpass(test1, 250, 0.3, 4, FilterTypes.BUTTERWORTH.value, 0) #First order HP filter"
   ]
  },
  {
   "cell_type": "code",
   "execution_count": 16,
   "metadata": {},
   "outputs": [
    {
     "data": {
      "text/plain": [
       "array([1698.71549328, 1667.83053739, 1647.02392312, ...,    4.37160236,\n",
       "         -2.27676268,   -7.12405744])"
      ]
     },
     "execution_count": 16,
     "metadata": {},
     "output_type": "execute_result"
    }
   ],
   "source": [
    "test1"
   ]
  },
  {
   "cell_type": "code",
   "execution_count": 17,
   "metadata": {},
   "outputs": [],
   "source": [
    "DataFilter.perform_highpass(test1, 250, 0.3, 4, FilterTypes.BUTTERWORTH.value, 0) #Second order HP filter"
   ]
  },
  {
   "cell_type": "code",
   "execution_count": 18,
   "metadata": {},
   "outputs": [
    {
     "data": {
      "text/plain": [
       "array([1682.06312952, 1618.34011655, 1565.52606158, ...,    4.18533429,\n",
       "         -2.48102602,   -7.23344643])"
      ]
     },
     "execution_count": 18,
     "metadata": {},
     "output_type": "execute_result"
    }
   ],
   "source": [
    "test1"
   ]
  },
  {
   "cell_type": "code",
   "execution_count": 19,
   "metadata": {},
   "outputs": [],
   "source": [
    "DataFilter.perform_highpass(test1, 250, 0.3, 4, FilterTypes.BUTTERWORTH.value, 0) #Third order HP filter"
   ]
  },
  {
   "cell_type": "code",
   "execution_count": 20,
   "metadata": {},
   "outputs": [
    {
     "data": {
      "text/plain": [
       "array([1665.57400746, 1569.65972275, 1486.11431453, ...,    4.60155094,\n",
       "         -2.08347328,   -6.7424722 ])"
      ]
     },
     "execution_count": 20,
     "metadata": {},
     "output_type": "execute_result"
    }
   ],
   "source": [
    "test1"
   ]
  },
  {
   "cell_type": "markdown",
   "metadata": {},
   "source": [
    "###### syntax for lowpass filter\n",
    "DataFilter.perform_lowpass(data = test1, sampling_rate = 250, cutoff = 0.3, order = 4, filter_type = FilterTypes.CHEBYSHEV_TYPE_1.value, ripple = 1)"
   ]
  },
  {
   "cell_type": "code",
   "execution_count": 21,
   "metadata": {},
   "outputs": [],
   "source": [
    "DataFilter.perform_lowpass(test1, 250, 95.0, 5, FilterTypes.CHEBYSHEV_TYPE_1.value, 1) #First order LP filter"
   ]
  },
  {
   "cell_type": "code",
   "execution_count": 22,
   "metadata": {},
   "outputs": [
    {
     "data": {
      "text/plain": [
       "array([ 318.16563925, 1280.10862407, 1856.94264937, ...,    5.58870138,\n",
       "          4.14549288,   -2.73026705])"
      ]
     },
     "execution_count": 22,
     "metadata": {},
     "output_type": "execute_result"
    }
   ],
   "source": [
    "test1"
   ]
  },
  {
   "cell_type": "code",
   "execution_count": 23,
   "metadata": {},
   "outputs": [],
   "source": [
    "DataFilter.perform_lowpass(test1, 250, 95.0, 5, FilterTypes.CHEBYSHEV_TYPE_1.value, 1) #Second order LP filter"
   ]
  },
  {
   "cell_type": "code",
   "execution_count": 25,
   "metadata": {},
   "outputs": [
    {
     "data": {
      "text/plain": [
       "array([6.07774698e+01, 4.31787004e+02, 1.23214449e+03, ...,\n",
       "       2.62552634e-01, 5.19462448e+00, 3.43319619e+00])"
      ]
     },
     "execution_count": 25,
     "metadata": {},
     "output_type": "execute_result"
    }
   ],
   "source": [
    "test1"
   ]
  },
  {
   "cell_type": "code",
   "execution_count": 26,
   "metadata": {},
   "outputs": [],
   "source": [
    "DataFilter.perform_lowpass(test1, 250, 95.0, 5, FilterTypes.CHEBYSHEV_TYPE_1.value, 1) #Third order LP filter"
   ]
  },
  {
   "cell_type": "code",
   "execution_count": 27,
   "metadata": {},
   "outputs": [
    {
     "data": {
      "text/plain": [
       "array([ 1.16099930e+01,  1.18252213e+02,  5.13187086e+02, ...,\n",
       "       -3.89411331e+00,  4.94446425e-01,  4.72373100e+00])"
      ]
     },
     "execution_count": 27,
     "metadata": {},
     "output_type": "execute_result"
    }
   ],
   "source": [
    "test1"
   ]
  },
  {
   "cell_type": "code",
   "execution_count": 32,
   "metadata": {},
   "outputs": [],
   "source": [
    "testChannel[' EXG Channel 0'] = testChannel[' EXG Channel 0']*0.707 # RMS Voltage"
   ]
  },
  {
   "cell_type": "code",
   "execution_count": 33,
   "metadata": {},
   "outputs": [
    {
     "data": {
      "text/plain": [
       "<matplotlib.axes._subplots.AxesSubplot at 0x4d43470>"
      ]
     },
     "execution_count": 33,
     "metadata": {},
     "output_type": "execute_result"
    },
    {
     "data": {
      "image/png": "[encoded data removed]",
      "text/plain": [
       "<Figure size 432x288 with 1 Axes>"
      ]
     },
     "metadata": {
      "needs_background": "light"
     },
     "output_type": "display_data"
    }
   ],
   "source": [
    "testChannel[' EXG Channel 0'].plot(kind='line')"
   ]
  },
  {
   "cell_type": "code",
   "execution_count": 34,
   "metadata": {},
   "outputs": [
    {
     "data": {
      "text/plain": [
       "<matplotlib.axes._subplots.AxesSubplot at 0xe564db0>"
      ]
     },
     "execution_count": 34,
     "metadata": {},
     "output_type": "execute_result"
    },
    {
     "data": {
      "image/png": "[encoded data removed]",
      "text/plain": [
       "<Figure size 432x288 with 1 Axes>"
      ]
     },
     "metadata": {
      "needs_background": "light"
     },
     "output_type": "display_data"
    }
   ],
   "source": [
    "testChannel[' EXG Channel 0'].plot(kind='hist')"
   ]
  },
  {
   "cell_type": "code",
   "execution_count": 35,
   "metadata": {},
   "outputs": [],
   "source": [
    "testChannel['channel 0'] = testChannel[' EXG Channel 0'].round(2)"
   ]
  },
  {
   "cell_type": "code",
   "execution_count": 36,
   "metadata": {},
   "outputs": [
    {
     "data": {
      "text/html": [
       "<div>\n",
       "<style scoped>\n",
       "    .dataframe tbody tr th:only-of-type {\n",
       "        vertical-align: middle;\n",
       "    }\n",
       "\n",
       "    .dataframe tbody tr th {\n",
       "        vertical-align: top;\n",
       "    }\n",
       "\n",
       "    .dataframe thead th {\n",
       "        text-align: right;\n",
       "    }\n",
       "</style>\n",
       "<table border=\"1\" class=\"dataframe\">\n",
       "  <thead>\n",
       "    <tr style=\"text-align: right;\">\n",
       "      <th></th>\n",
       "      <th>EXG Channel 0</th>\n",
       "      <th>channel 0</th>\n",
       "    </tr>\n",
       "  </thead>\n",
       "  <tbody>\n",
       "    <tr>\n",
       "      <th>0</th>\n",
       "      <td>8.208265</td>\n",
       "      <td>8.21</td>\n",
       "    </tr>\n",
       "    <tr>\n",
       "      <th>1</th>\n",
       "      <td>83.604315</td>\n",
       "      <td>83.60</td>\n",
       "    </tr>\n",
       "    <tr>\n",
       "      <th>2</th>\n",
       "      <td>362.823270</td>\n",
       "      <td>362.82</td>\n",
       "    </tr>\n",
       "    <tr>\n",
       "      <th>3</th>\n",
       "      <td>862.630534</td>\n",
       "      <td>862.63</td>\n",
       "    </tr>\n",
       "    <tr>\n",
       "      <th>4</th>\n",
       "      <td>1209.852211</td>\n",
       "      <td>1209.85</td>\n",
       "    </tr>\n",
       "  </tbody>\n",
       "</table>\n",
       "</div>"
      ],
      "text/plain": [
       "    EXG Channel 0  channel 0\n",
       "0        8.208265       8.21\n",
       "1       83.604315      83.60\n",
       "2      362.823270     362.82\n",
       "3      862.630534     862.63\n",
       "4     1209.852211    1209.85"
      ]
     },
     "execution_count": 36,
     "metadata": {},
     "output_type": "execute_result"
    }
   ],
   "source": [
    "testChannel.head()"
   ]
  },
  {
   "cell_type": "code",
   "execution_count": 37,
   "metadata": {},
   "outputs": [],
   "source": [
    "dataset['channel 0'] = pd.DataFrame(testChannel['channel 0'])"
   ]
  },
  {
   "cell_type": "code",
   "execution_count": 38,
   "metadata": {},
   "outputs": [
    {
     "data": {
      "text/html": [
       "<div>\n",
       "<style scoped>\n",
       "    .dataframe tbody tr th:only-of-type {\n",
       "        vertical-align: middle;\n",
       "    }\n",
       "\n",
       "    .dataframe tbody tr th {\n",
       "        vertical-align: top;\n",
       "    }\n",
       "\n",
       "    .dataframe thead th {\n",
       "        text-align: right;\n",
       "    }\n",
       "</style>\n",
       "<table border=\"1\" class=\"dataframe\">\n",
       "  <thead>\n",
       "    <tr style=\"text-align: right;\">\n",
       "      <th></th>\n",
       "      <th>EXG Channel 0</th>\n",
       "      <th>EXG Channel 1</th>\n",
       "      <th>EXG Channel 2</th>\n",
       "      <th>EXG Channel 3</th>\n",
       "      <th>EXG Channel 4</th>\n",
       "      <th>EXG Channel 5</th>\n",
       "      <th>EXG Channel 6</th>\n",
       "      <th>EXG Channel 7</th>\n",
       "      <th>Timestamp (Formatted)</th>\n",
       "      <th>channel 0</th>\n",
       "    </tr>\n",
       "  </thead>\n",
       "  <tbody>\n",
       "    <tr>\n",
       "      <th>0</th>\n",
       "      <td>41172.785156</td>\n",
       "      <td>-568.874207</td>\n",
       "      <td>-20473.302734</td>\n",
       "      <td>-18087.277344</td>\n",
       "      <td>36842.601562</td>\n",
       "      <td>-17150.515625</td>\n",
       "      <td>30402.126953</td>\n",
       "      <td>34801.531250</td>\n",
       "      <td>2020-12-08 19:24:02.088</td>\n",
       "      <td>8.21</td>\n",
       "    </tr>\n",
       "    <tr>\n",
       "      <th>1</th>\n",
       "      <td>41235.414062</td>\n",
       "      <td>-11457.302734</td>\n",
       "      <td>-24090.552734</td>\n",
       "      <td>-22627.765625</td>\n",
       "      <td>36675.097656</td>\n",
       "      <td>-21152.550781</td>\n",
       "      <td>30691.759766</td>\n",
       "      <td>34648.800781</td>\n",
       "      <td>2020-12-08 19:24:02.088</td>\n",
       "      <td>83.60</td>\n",
       "    </tr>\n",
       "    <tr>\n",
       "      <th>2</th>\n",
       "      <td>41535.550781</td>\n",
       "      <td>-26242.712891</td>\n",
       "      <td>-27323.128906</td>\n",
       "      <td>-27170.890625</td>\n",
       "      <td>36393.242188</td>\n",
       "      <td>-21653.564453</td>\n",
       "      <td>31119.238281</td>\n",
       "      <td>34546.476562</td>\n",
       "      <td>2020-12-08 19:24:02.088</td>\n",
       "      <td>362.82</td>\n",
       "    </tr>\n",
       "    <tr>\n",
       "      <th>3</th>\n",
       "      <td>41614.117188</td>\n",
       "      <td>-27117.068359</td>\n",
       "      <td>-27394.609375</td>\n",
       "      <td>-27311.283203</td>\n",
       "      <td>36384.546875</td>\n",
       "      <td>-19474.404297</td>\n",
       "      <td>31103.099609</td>\n",
       "      <td>34605.507812</td>\n",
       "      <td>2020-12-08 19:24:02.088</td>\n",
       "      <td>862.63</td>\n",
       "    </tr>\n",
       "    <tr>\n",
       "      <th>4</th>\n",
       "      <td>41469.257812</td>\n",
       "      <td>-18650.541016</td>\n",
       "      <td>-25384.181641</td>\n",
       "      <td>-24168.851562</td>\n",
       "      <td>36598.765625</td>\n",
       "      <td>-17332.435547</td>\n",
       "      <td>30806.939453</td>\n",
       "      <td>34728.687500</td>\n",
       "      <td>2020-12-08 19:24:02.088</td>\n",
       "      <td>1209.85</td>\n",
       "    </tr>\n",
       "    <tr>\n",
       "      <th>...</th>\n",
       "      <td>...</td>\n",
       "      <td>...</td>\n",
       "      <td>...</td>\n",
       "      <td>...</td>\n",
       "      <td>...</td>\n",
       "      <td>...</td>\n",
       "      <td>...</td>\n",
       "      <td>...</td>\n",
       "      <td>...</td>\n",
       "      <td>...</td>\n",
       "    </tr>\n",
       "    <tr>\n",
       "      <th>95</th>\n",
       "      <td>41110.042969</td>\n",
       "      <td>-2314.388916</td>\n",
       "      <td>-21376.224609</td>\n",
       "      <td>-18594.548828</td>\n",
       "      <td>36791.730469</td>\n",
       "      <td>-16418.115234</td>\n",
       "      <td>30336.009766</td>\n",
       "      <td>34724.125000</td>\n",
       "      <td>2020-12-08 19:24:02.088</td>\n",
       "      <td>-319.38</td>\n",
       "    </tr>\n",
       "    <tr>\n",
       "      <th>96</th>\n",
       "      <td>41082.972656</td>\n",
       "      <td>-7091.180176</td>\n",
       "      <td>-23044.447266</td>\n",
       "      <td>-21118.732422</td>\n",
       "      <td>36714.437500</td>\n",
       "      <td>-20404.929688</td>\n",
       "      <td>30489.566406</td>\n",
       "      <td>34602.109375</td>\n",
       "      <td>2020-12-08 19:24:02.088</td>\n",
       "      <td>-306.58</td>\n",
       "    </tr>\n",
       "    <tr>\n",
       "      <th>97</th>\n",
       "      <td>41429.917969</td>\n",
       "      <td>-25011.757812</td>\n",
       "      <td>-27104.216797</td>\n",
       "      <td>-26830.943359</td>\n",
       "      <td>36388.125000</td>\n",
       "      <td>-22204.355469</td>\n",
       "      <td>31031.796875</td>\n",
       "      <td>34469.070312</td>\n",
       "      <td>2020-12-08 19:24:02.088</td>\n",
       "      <td>-298.13</td>\n",
       "    </tr>\n",
       "    <tr>\n",
       "      <th>98</th>\n",
       "      <td>41566.507812</td>\n",
       "      <td>-27247.646484</td>\n",
       "      <td>-27385.289062</td>\n",
       "      <td>-27338.351562</td>\n",
       "      <td>36312.285156</td>\n",
       "      <td>-19931.853516</td>\n",
       "      <td>31095.812500</td>\n",
       "      <td>34511.425781</td>\n",
       "      <td>2020-12-08 19:24:02.088</td>\n",
       "      <td>-302.05</td>\n",
       "    </tr>\n",
       "    <tr>\n",
       "      <th>99</th>\n",
       "      <td>41460.988281</td>\n",
       "      <td>-21942.460938</td>\n",
       "      <td>-26330.464844</td>\n",
       "      <td>-25503.183594</td>\n",
       "      <td>36496.171875</td>\n",
       "      <td>-17624.818359</td>\n",
       "      <td>30844.087891</td>\n",
       "      <td>34630.988281</td>\n",
       "      <td>2020-12-08 19:24:02.088</td>\n",
       "      <td>-287.06</td>\n",
       "    </tr>\n",
       "  </tbody>\n",
       "</table>\n",
       "<p>100 rows × 10 columns</p>\n",
       "</div>"
      ],
      "text/plain": [
       "     EXG Channel 0   EXG Channel 1   EXG Channel 2   EXG Channel 3  \\\n",
       "0     41172.785156     -568.874207   -20473.302734   -18087.277344   \n",
       "1     41235.414062   -11457.302734   -24090.552734   -22627.765625   \n",
       "2     41535.550781   -26242.712891   -27323.128906   -27170.890625   \n",
       "3     41614.117188   -27117.068359   -27394.609375   -27311.283203   \n",
       "4     41469.257812   -18650.541016   -25384.181641   -24168.851562   \n",
       "..             ...             ...             ...             ...   \n",
       "95    41110.042969    -2314.388916   -21376.224609   -18594.548828   \n",
       "96    41082.972656    -7091.180176   -23044.447266   -21118.732422   \n",
       "97    41429.917969   -25011.757812   -27104.216797   -26830.943359   \n",
       "98    41566.507812   -27247.646484   -27385.289062   -27338.351562   \n",
       "99    41460.988281   -21942.460938   -26330.464844   -25503.183594   \n",
       "\n",
       "     EXG Channel 4   EXG Channel 5   EXG Channel 6   EXG Channel 7  \\\n",
       "0     36842.601562   -17150.515625    30402.126953    34801.531250   \n",
       "1     36675.097656   -21152.550781    30691.759766    34648.800781   \n",
       "2     36393.242188   -21653.564453    31119.238281    34546.476562   \n",
       "3     36384.546875   -19474.404297    31103.099609    34605.507812   \n",
       "4     36598.765625   -17332.435547    30806.939453    34728.687500   \n",
       "..             ...             ...             ...             ...   \n",
       "95    36791.730469   -16418.115234    30336.009766    34724.125000   \n",
       "96    36714.437500   -20404.929688    30489.566406    34602.109375   \n",
       "97    36388.125000   -22204.355469    31031.796875    34469.070312   \n",
       "98    36312.285156   -19931.853516    31095.812500    34511.425781   \n",
       "99    36496.171875   -17624.818359    30844.087891    34630.988281   \n",
       "\n",
       "     Timestamp (Formatted)  channel 0  \n",
       "0  2020-12-08 19:24:02.088       8.21  \n",
       "1  2020-12-08 19:24:02.088      83.60  \n",
       "2  2020-12-08 19:24:02.088     362.82  \n",
       "3  2020-12-08 19:24:02.088     862.63  \n",
       "4  2020-12-08 19:24:02.088    1209.85  \n",
       "..                     ...        ...  \n",
       "95 2020-12-08 19:24:02.088    -319.38  \n",
       "96 2020-12-08 19:24:02.088    -306.58  \n",
       "97 2020-12-08 19:24:02.088    -298.13  \n",
       "98 2020-12-08 19:24:02.088    -302.05  \n",
       "99 2020-12-08 19:24:02.088    -287.06  \n",
       "\n",
       "[100 rows x 10 columns]"
      ]
     },
     "execution_count": 38,
     "metadata": {},
     "output_type": "execute_result"
    }
   ],
   "source": [
    "dataset.head(100)"
   ]
  },
  {
   "cell_type": "code",
   "execution_count": 49,
   "metadata": {},
   "outputs": [
    {
     "data": {
      "text/plain": [
       "<matplotlib.axes._subplots.AxesSubplot at 0xd44bcb0>"
      ]
     },
     "execution_count": 49,
     "metadata": {},
     "output_type": "execute_result"
    },
    {
     "data": {
      "image/png": "[encoded data removed]",
      "text/plain": [
       "<Figure size 432x288 with 1 Axes>"
      ]
     },
     "metadata": {
      "needs_background": "light"
     },
     "output_type": "display_data"
    }
   ],
   "source": [
    "testChannel['channel 0'].iloc[4000:31250].plot(kind='line') #removing initial and final rows "
   ]
  },
  {
   "cell_type": "code",
   "execution_count": 50,
   "metadata": {},
   "outputs": [],
   "source": [
    "testChannel = pd.DataFrame(dataset[' EXG Channel 1']/24) #Performing the filtering for channel 2"
   ]
  },
  {
   "cell_type": "code",
   "execution_count": 51,
   "metadata": {},
   "outputs": [],
   "source": [
    "test1 = testChannel[' EXG Channel 1'].values\n",
    "\n",
    "for i in range(3):\n",
    "    DataFilter.perform_highpass(test1, 250, 0.3, 4, FilterTypes.BUTTERWORTH.value, 0) #3rd order HP filter\n",
    "\n",
    "for i in range(3):\n",
    "    DataFilter.perform_lowpass(test1, 250, 95.0, 5, FilterTypes.CHEBYSHEV_TYPE_1.value, 1) #3rd order LP filter\n",
    "    \n",
    "testChannel[' EXG Channel 1'] = (testChannel[' EXG Channel 1']*0.707).round(2)"
   ]
  },
  {
   "cell_type": "code",
   "execution_count": 52,
   "metadata": {},
   "outputs": [
    {
     "data": {
      "text/html": [
       "<div>\n",
       "<style scoped>\n",
       "    .dataframe tbody tr th:only-of-type {\n",
       "        vertical-align: middle;\n",
       "    }\n",
       "\n",
       "    .dataframe tbody tr th {\n",
       "        vertical-align: top;\n",
       "    }\n",
       "\n",
       "    .dataframe thead th {\n",
       "        text-align: right;\n",
       "    }\n",
       "</style>\n",
       "<table border=\"1\" class=\"dataframe\">\n",
       "  <thead>\n",
       "    <tr style=\"text-align: right;\">\n",
       "      <th></th>\n",
       "      <th>EXG Channel 1</th>\n",
       "    </tr>\n",
       "  </thead>\n",
       "  <tbody>\n",
       "    <tr>\n",
       "      <th>0</th>\n",
       "      <td>-0.11</td>\n",
       "    </tr>\n",
       "    <tr>\n",
       "      <th>1</th>\n",
       "      <td>-3.33</td>\n",
       "    </tr>\n",
       "    <tr>\n",
       "      <th>2</th>\n",
       "      <td>-30.06</td>\n",
       "    </tr>\n",
       "    <tr>\n",
       "      <th>3</th>\n",
       "      <td>-138.00</td>\n",
       "    </tr>\n",
       "    <tr>\n",
       "      <th>4</th>\n",
       "      <td>-374.79</td>\n",
       "    </tr>\n",
       "  </tbody>\n",
       "</table>\n",
       "</div>"
      ],
      "text/plain": [
       "    EXG Channel 1\n",
       "0           -0.11\n",
       "1           -3.33\n",
       "2          -30.06\n",
       "3         -138.00\n",
       "4         -374.79"
      ]
     },
     "execution_count": 52,
     "metadata": {},
     "output_type": "execute_result"
    }
   ],
   "source": [
    "testChannel.head()"
   ]
  },
  {
   "cell_type": "code",
   "execution_count": 53,
   "metadata": {},
   "outputs": [],
   "source": [
    "dataset['channel 1'] = pd.DataFrame(testChannel[' EXG Channel 1'])"
   ]
  },
  {
   "cell_type": "code",
   "execution_count": 54,
   "metadata": {},
   "outputs": [
    {
     "data": {
      "text/html": [
       "<div>\n",
       "<style scoped>\n",
       "    .dataframe tbody tr th:only-of-type {\n",
       "        vertical-align: middle;\n",
       "    }\n",
       "\n",
       "    .dataframe tbody tr th {\n",
       "        vertical-align: top;\n",
       "    }\n",
       "\n",
       "    .dataframe thead th {\n",
       "        text-align: right;\n",
       "    }\n",
       "</style>\n",
       "<table border=\"1\" class=\"dataframe\">\n",
       "  <thead>\n",
       "    <tr style=\"text-align: right;\">\n",
       "      <th></th>\n",
       "      <th>EXG Channel 2</th>\n",
       "    </tr>\n",
       "  </thead>\n",
       "  <tbody>\n",
       "    <tr>\n",
       "      <th>0</th>\n",
       "      <td>-4.08</td>\n",
       "    </tr>\n",
       "    <tr>\n",
       "      <th>1</th>\n",
       "      <td>-42.29</td>\n",
       "    </tr>\n",
       "    <tr>\n",
       "      <th>2</th>\n",
       "      <td>-188.31</td>\n",
       "    </tr>\n",
       "    <tr>\n",
       "      <th>3</th>\n",
       "      <td>-466.80</td>\n",
       "    </tr>\n",
       "    <tr>\n",
       "      <th>4</th>\n",
       "      <td>-703.47</td>\n",
       "    </tr>\n",
       "  </tbody>\n",
       "</table>\n",
       "</div>"
      ],
      "text/plain": [
       "    EXG Channel 2\n",
       "0           -4.08\n",
       "1          -42.29\n",
       "2         -188.31\n",
       "3         -466.80\n",
       "4         -703.47"
      ]
     },
     "execution_count": 54,
     "metadata": {},
     "output_type": "execute_result"
    }
   ],
   "source": [
    "testChannel = pd.DataFrame(dataset[' EXG Channel 2']/24) #Performing the filtering for channel 3\n",
    "test1 = testChannel[' EXG Channel 2'].values\n",
    "\n",
    "for i in range(3):\n",
    "    DataFilter.perform_highpass(test1, 250, 0.3, 4, FilterTypes.BUTTERWORTH.value, 0) #3rd order HP filter\n",
    "\n",
    "for i in range(3):\n",
    "    DataFilter.perform_lowpass(test1, 250, 95.0, 5, FilterTypes.CHEBYSHEV_TYPE_1.value, 1) #3rd order LP filter\n",
    "    \n",
    "testChannel[' EXG Channel 2'] = (testChannel[' EXG Channel 2']*0.707).round(2)\n",
    "dataset['channel 2'] = pd.DataFrame(testChannel[' EXG Channel 2'])\n",
    "testChannel.head()"
   ]
  },
  {
   "cell_type": "code",
   "execution_count": 55,
   "metadata": {},
   "outputs": [
    {
     "data": {
      "text/html": [
       "<div>\n",
       "<style scoped>\n",
       "    .dataframe tbody tr th:only-of-type {\n",
       "        vertical-align: middle;\n",
       "    }\n",
       "\n",
       "    .dataframe tbody tr th {\n",
       "        vertical-align: top;\n",
       "    }\n",
       "\n",
       "    .dataframe thead th {\n",
       "        text-align: right;\n",
       "    }\n",
       "</style>\n",
       "<table border=\"1\" class=\"dataframe\">\n",
       "  <thead>\n",
       "    <tr style=\"text-align: right;\">\n",
       "      <th></th>\n",
       "      <th>EXG Channel 3</th>\n",
       "    </tr>\n",
       "  </thead>\n",
       "  <tbody>\n",
       "    <tr>\n",
       "      <th>0</th>\n",
       "      <td>-3.61</td>\n",
       "    </tr>\n",
       "    <tr>\n",
       "      <th>1</th>\n",
       "      <td>-37.63</td>\n",
       "    </tr>\n",
       "    <tr>\n",
       "      <th>2</th>\n",
       "      <td>-169.43</td>\n",
       "    </tr>\n",
       "    <tr>\n",
       "      <th>3</th>\n",
       "      <td>-427.68</td>\n",
       "    </tr>\n",
       "    <tr>\n",
       "      <th>4</th>\n",
       "      <td>-664.37</td>\n",
       "    </tr>\n",
       "  </tbody>\n",
       "</table>\n",
       "</div>"
      ],
      "text/plain": [
       "    EXG Channel 3\n",
       "0           -3.61\n",
       "1          -37.63\n",
       "2         -169.43\n",
       "3         -427.68\n",
       "4         -664.37"
      ]
     },
     "execution_count": 55,
     "metadata": {},
     "output_type": "execute_result"
    }
   ],
   "source": [
    "testChannel = pd.DataFrame(dataset[' EXG Channel 3']/24) #Performing the filtering for channel 4\n",
    "test1 = testChannel[' EXG Channel 3'].values\n",
    "\n",
    "for i in range(3):\n",
    "    DataFilter.perform_highpass(test1, 250, 0.3, 4, FilterTypes.BUTTERWORTH.value, 0) #3rd order HP filter\n",
    "\n",
    "for i in range(3):\n",
    "    DataFilter.perform_lowpass(test1, 250, 95.0, 5, FilterTypes.CHEBYSHEV_TYPE_1.value, 1) #3rd order LP filter\n",
    "    \n",
    "testChannel[' EXG Channel 3'] = (testChannel[' EXG Channel 3']*0.707).round(2)\n",
    "dataset['channel 3'] = pd.DataFrame(testChannel[' EXG Channel 3'])\n",
    "testChannel.head()"
   ]
  },
  {
   "cell_type": "code",
   "execution_count": 56,
   "metadata": {},
   "outputs": [
    {
     "ename": "KeyError",
     "evalue": "' EXG Channel '",
     "output_type": "error",
     "traceback": [
      "\u001b[1;31m---------------------------------------------------------------------------\u001b[0m",
      "\u001b[1;31mKeyError\u001b[0m                                  Traceback (most recent call last)",
      "\u001b[1;32m~\\AppData\\Local\\Programs\\Python\\Python37-32\\lib\\site-packages\\pandas\\core\\indexes\\base.py\u001b[0m in \u001b[0;36mget_loc\u001b[1;34m(self, key, method, tolerance)\u001b[0m\n\u001b[0;32m   2645\u001b[0m             \u001b[1;32mtry\u001b[0m\u001b[1;33m:\u001b[0m\u001b[1;33m\u001b[0m\u001b[1;33m\u001b[0m\u001b[0m\n\u001b[1;32m-> 2646\u001b[1;33m                 \u001b[1;32mreturn\u001b[0m \u001b[0mself\u001b[0m\u001b[1;33m.\u001b[0m\u001b[0m_engine\u001b[0m\u001b[1;33m.\u001b[0m\u001b[0mget_loc\u001b[0m\u001b[1;33m(\u001b[0m\u001b[0mkey\u001b[0m\u001b[1;33m)\u001b[0m\u001b[1;33m\u001b[0m\u001b[1;33m\u001b[0m\u001b[0m\n\u001b[0m\u001b[0;32m   2647\u001b[0m             \u001b[1;32mexcept\u001b[0m \u001b[0mKeyError\u001b[0m\u001b[1;33m:\u001b[0m\u001b[1;33m\u001b[0m\u001b[1;33m\u001b[0m\u001b[0m\n",
      "\u001b[1;32mpandas\\_libs\\index.pyx\u001b[0m in \u001b[0;36mpandas._libs.index.IndexEngine.get_loc\u001b[1;34m()\u001b[0m\n",
      "\u001b[1;32mpandas\\_libs\\index.pyx\u001b[0m in \u001b[0;36mpandas._libs.index.IndexEngine.get_loc\u001b[1;34m()\u001b[0m\n",
      "\u001b[1;32mpandas\\_libs\\hashtable_class_helper.pxi\u001b[0m in \u001b[0;36mpandas._libs.hashtable.PyObjectHashTable.get_item\u001b[1;34m()\u001b[0m\n",
      "\u001b[1;32mpandas\\_libs\\hashtable_class_helper.pxi\u001b[0m in \u001b[0;36mpandas._libs.hashtable.PyObjectHashTable.get_item\u001b[1;34m()\u001b[0m\n",
      "\u001b[1;31mKeyError\u001b[0m: ' EXG Channel '",
      "\nDuring handling of the above exception, another exception occurred:\n",
      "\u001b[1;31mKeyError\u001b[0m                                  Traceback (most recent call last)",
      "\u001b[1;32m<ipython-input-56-f127653fe541>\u001b[0m in \u001b[0;36m<module>\u001b[1;34m\u001b[0m\n\u001b[0;32m      9\u001b[0m \u001b[1;33m\u001b[0m\u001b[0m\n\u001b[0;32m     10\u001b[0m \u001b[0mtestChannel\u001b[0m\u001b[1;33m[\u001b[0m\u001b[1;34m' EXG Channel 4'\u001b[0m\u001b[1;33m]\u001b[0m \u001b[1;33m=\u001b[0m \u001b[1;33m(\u001b[0m\u001b[0mtestChannel\u001b[0m\u001b[1;33m[\u001b[0m\u001b[1;34m' EXG Channel 4'\u001b[0m\u001b[1;33m]\u001b[0m\u001b[1;33m*\u001b[0m\u001b[1;36m0.707\u001b[0m\u001b[1;33m)\u001b[0m\u001b[1;33m.\u001b[0m\u001b[0mround\u001b[0m\u001b[1;33m(\u001b[0m\u001b[1;36m2\u001b[0m\u001b[1;33m)\u001b[0m\u001b[1;33m\u001b[0m\u001b[1;33m\u001b[0m\u001b[0m\n\u001b[1;32m---> 11\u001b[1;33m \u001b[0mdataset\u001b[0m\u001b[1;33m[\u001b[0m\u001b[1;34m'channel 4'\u001b[0m\u001b[1;33m]\u001b[0m \u001b[1;33m=\u001b[0m \u001b[0mpd\u001b[0m\u001b[1;33m.\u001b[0m\u001b[0mDataFrame\u001b[0m\u001b[1;33m(\u001b[0m\u001b[0mtestChannel\u001b[0m\u001b[1;33m[\u001b[0m\u001b[1;34m' EXG Channel '\u001b[0m\u001b[1;33m]\u001b[0m\u001b[1;33m)\u001b[0m\u001b[1;33m\u001b[0m\u001b[1;33m\u001b[0m\u001b[0m\n\u001b[0m\u001b[0;32m     12\u001b[0m \u001b[0mtestChannel\u001b[0m\u001b[1;33m.\u001b[0m\u001b[0mhead\u001b[0m\u001b[1;33m(\u001b[0m\u001b[1;33m)\u001b[0m\u001b[1;33m\u001b[0m\u001b[1;33m\u001b[0m\u001b[0m\n",
      "\u001b[1;32m~\\AppData\\Local\\Programs\\Python\\Python37-32\\lib\\site-packages\\pandas\\core\\frame.py\u001b[0m in \u001b[0;36m__getitem__\u001b[1;34m(self, key)\u001b[0m\n\u001b[0;32m   2798\u001b[0m             \u001b[1;32mif\u001b[0m \u001b[0mself\u001b[0m\u001b[1;33m.\u001b[0m\u001b[0mcolumns\u001b[0m\u001b[1;33m.\u001b[0m\u001b[0mnlevels\u001b[0m \u001b[1;33m>\u001b[0m \u001b[1;36m1\u001b[0m\u001b[1;33m:\u001b[0m\u001b[1;33m\u001b[0m\u001b[1;33m\u001b[0m\u001b[0m\n\u001b[0;32m   2799\u001b[0m                 \u001b[1;32mreturn\u001b[0m \u001b[0mself\u001b[0m\u001b[1;33m.\u001b[0m\u001b[0m_getitem_multilevel\u001b[0m\u001b[1;33m(\u001b[0m\u001b[0mkey\u001b[0m\u001b[1;33m)\u001b[0m\u001b[1;33m\u001b[0m\u001b[1;33m\u001b[0m\u001b[0m\n\u001b[1;32m-> 2800\u001b[1;33m             \u001b[0mindexer\u001b[0m \u001b[1;33m=\u001b[0m \u001b[0mself\u001b[0m\u001b[1;33m.\u001b[0m\u001b[0mcolumns\u001b[0m\u001b[1;33m.\u001b[0m\u001b[0mget_loc\u001b[0m\u001b[1;33m(\u001b[0m\u001b[0mkey\u001b[0m\u001b[1;33m)\u001b[0m\u001b[1;33m\u001b[0m\u001b[1;33m\u001b[0m\u001b[0m\n\u001b[0m\u001b[0;32m   2801\u001b[0m             \u001b[1;32mif\u001b[0m \u001b[0mis_integer\u001b[0m\u001b[1;33m(\u001b[0m\u001b[0mindexer\u001b[0m\u001b[1;33m)\u001b[0m\u001b[1;33m:\u001b[0m\u001b[1;33m\u001b[0m\u001b[1;33m\u001b[0m\u001b[0m\n\u001b[0;32m   2802\u001b[0m                 \u001b[0mindexer\u001b[0m \u001b[1;33m=\u001b[0m \u001b[1;33m[\u001b[0m\u001b[0mindexer\u001b[0m\u001b[1;33m]\u001b[0m\u001b[1;33m\u001b[0m\u001b[1;33m\u001b[0m\u001b[0m\n",
      "\u001b[1;32m~\\AppData\\Local\\Programs\\Python\\Python37-32\\lib\\site-packages\\pandas\\core\\indexes\\base.py\u001b[0m in \u001b[0;36mget_loc\u001b[1;34m(self, key, method, tolerance)\u001b[0m\n\u001b[0;32m   2646\u001b[0m                 \u001b[1;32mreturn\u001b[0m \u001b[0mself\u001b[0m\u001b[1;33m.\u001b[0m\u001b[0m_engine\u001b[0m\u001b[1;33m.\u001b[0m\u001b[0mget_loc\u001b[0m\u001b[1;33m(\u001b[0m\u001b[0mkey\u001b[0m\u001b[1;33m)\u001b[0m\u001b[1;33m\u001b[0m\u001b[1;33m\u001b[0m\u001b[0m\n\u001b[0;32m   2647\u001b[0m             \u001b[1;32mexcept\u001b[0m \u001b[0mKeyError\u001b[0m\u001b[1;33m:\u001b[0m\u001b[1;33m\u001b[0m\u001b[1;33m\u001b[0m\u001b[0m\n\u001b[1;32m-> 2648\u001b[1;33m                 \u001b[1;32mreturn\u001b[0m \u001b[0mself\u001b[0m\u001b[1;33m.\u001b[0m\u001b[0m_engine\u001b[0m\u001b[1;33m.\u001b[0m\u001b[0mget_loc\u001b[0m\u001b[1;33m(\u001b[0m\u001b[0mself\u001b[0m\u001b[1;33m.\u001b[0m\u001b[0m_maybe_cast_indexer\u001b[0m\u001b[1;33m(\u001b[0m\u001b[0mkey\u001b[0m\u001b[1;33m)\u001b[0m\u001b[1;33m)\u001b[0m\u001b[1;33m\u001b[0m\u001b[1;33m\u001b[0m\u001b[0m\n\u001b[0m\u001b[0;32m   2649\u001b[0m         \u001b[0mindexer\u001b[0m \u001b[1;33m=\u001b[0m \u001b[0mself\u001b[0m\u001b[1;33m.\u001b[0m\u001b[0mget_indexer\u001b[0m\u001b[1;33m(\u001b[0m\u001b[1;33m[\u001b[0m\u001b[0mkey\u001b[0m\u001b[1;33m]\u001b[0m\u001b[1;33m,\u001b[0m \u001b[0mmethod\u001b[0m\u001b[1;33m=\u001b[0m\u001b[0mmethod\u001b[0m\u001b[1;33m,\u001b[0m \u001b[0mtolerance\u001b[0m\u001b[1;33m=\u001b[0m\u001b[0mtolerance\u001b[0m\u001b[1;33m)\u001b[0m\u001b[1;33m\u001b[0m\u001b[1;33m\u001b[0m\u001b[0m\n\u001b[0;32m   2650\u001b[0m         \u001b[1;32mif\u001b[0m \u001b[0mindexer\u001b[0m\u001b[1;33m.\u001b[0m\u001b[0mndim\u001b[0m \u001b[1;33m>\u001b[0m \u001b[1;36m1\u001b[0m \u001b[1;32mor\u001b[0m \u001b[0mindexer\u001b[0m\u001b[1;33m.\u001b[0m\u001b[0msize\u001b[0m \u001b[1;33m>\u001b[0m \u001b[1;36m1\u001b[0m\u001b[1;33m:\u001b[0m\u001b[1;33m\u001b[0m\u001b[1;33m\u001b[0m\u001b[0m\n",
      "\u001b[1;32mpandas\\_libs\\index.pyx\u001b[0m in \u001b[0;36mpandas._libs.index.IndexEngine.get_loc\u001b[1;34m()\u001b[0m\n",
      "\u001b[1;32mpandas\\_libs\\index.pyx\u001b[0m in \u001b[0;36mpandas._libs.index.IndexEngine.get_loc\u001b[1;34m()\u001b[0m\n",
      "\u001b[1;32mpandas\\_libs\\hashtable_class_helper.pxi\u001b[0m in \u001b[0;36mpandas._libs.hashtable.PyObjectHashTable.get_item\u001b[1;34m()\u001b[0m\n",
      "\u001b[1;32mpandas\\_libs\\hashtable_class_helper.pxi\u001b[0m in \u001b[0;36mpandas._libs.hashtable.PyObjectHashTable.get_item\u001b[1;34m()\u001b[0m\n",
      "\u001b[1;31mKeyError\u001b[0m: ' EXG Channel '"
     ]
    }
   ],
   "source": [
    "testChannel = pd.DataFrame(dataset[' EXG Channel 4']/24) #Performing the filtering for channel 5\n",
    "test1 = testChannel[' EXG Channel 4'].values\n",
    "\n",
    "for i in range(3):\n",
    "    DataFilter.perform_highpass(test1, 250, 0.3, 4, FilterTypes.BUTTERWORTH.value, 0) #3rd order HP filter\n",
    "\n",
    "for i in range(3):\n",
    "    DataFilter.perform_lowpass(test1, 250, 95.0, 5, FilterTypes.CHEBYSHEV_TYPE_1.value, 1) #3rd order LP filter\n",
    "    \n",
    "testChannel[' EXG Channel 4'] = (testChannel[' EXG Channel 4']*0.707).round(2)\n"
   ]
  },
  {
   "cell_type": "code",
   "execution_count": 57,
   "metadata": {},
   "outputs": [
    {
     "data": {
      "text/html": [
       "<div>\n",
       "<style scoped>\n",
       "    .dataframe tbody tr th:only-of-type {\n",
       "        vertical-align: middle;\n",
       "    }\n",
       "\n",
       "    .dataframe tbody tr th {\n",
       "        vertical-align: top;\n",
       "    }\n",
       "\n",
       "    .dataframe thead th {\n",
       "        text-align: right;\n",
       "    }\n",
       "</style>\n",
       "<table border=\"1\" class=\"dataframe\">\n",
       "  <thead>\n",
       "    <tr style=\"text-align: right;\">\n",
       "      <th></th>\n",
       "      <th>EXG Channel 4</th>\n",
       "    </tr>\n",
       "  </thead>\n",
       "  <tbody>\n",
       "    <tr>\n",
       "      <th>0</th>\n",
       "      <td>7.34</td>\n",
       "    </tr>\n",
       "    <tr>\n",
       "      <th>1</th>\n",
       "      <td>74.77</td>\n",
       "    </tr>\n",
       "    <tr>\n",
       "      <th>2</th>\n",
       "      <td>324.10</td>\n",
       "    </tr>\n",
       "    <tr>\n",
       "      <th>3</th>\n",
       "      <td>768.80</td>\n",
       "    </tr>\n",
       "    <tr>\n",
       "      <th>4</th>\n",
       "      <td>1072.99</td>\n",
       "    </tr>\n",
       "  </tbody>\n",
       "</table>\n",
       "</div>"
      ],
      "text/plain": [
       "    EXG Channel 4\n",
       "0            7.34\n",
       "1           74.77\n",
       "2          324.10\n",
       "3          768.80\n",
       "4         1072.99"
      ]
     },
     "execution_count": 57,
     "metadata": {},
     "output_type": "execute_result"
    }
   ],
   "source": [
    "dataset['channel 4'] = pd.DataFrame(testChannel[' EXG Channel 4'])\n",
    "testChannel.head()"
   ]
  },
  {
   "cell_type": "code",
   "execution_count": 58,
   "metadata": {},
   "outputs": [
    {
     "data": {
      "text/html": [
       "<div>\n",
       "<style scoped>\n",
       "    .dataframe tbody tr th:only-of-type {\n",
       "        vertical-align: middle;\n",
       "    }\n",
       "\n",
       "    .dataframe tbody tr th {\n",
       "        vertical-align: top;\n",
       "    }\n",
       "\n",
       "    .dataframe thead th {\n",
       "        text-align: right;\n",
       "    }\n",
       "</style>\n",
       "<table border=\"1\" class=\"dataframe\">\n",
       "  <thead>\n",
       "    <tr style=\"text-align: right;\">\n",
       "      <th></th>\n",
       "      <th>EXG Channel 5</th>\n",
       "    </tr>\n",
       "  </thead>\n",
       "  <tbody>\n",
       "    <tr>\n",
       "      <th>0</th>\n",
       "      <td>-3.42</td>\n",
       "    </tr>\n",
       "    <tr>\n",
       "      <th>1</th>\n",
       "      <td>-35.62</td>\n",
       "    </tr>\n",
       "    <tr>\n",
       "      <th>2</th>\n",
       "      <td>-159.28</td>\n",
       "    </tr>\n",
       "    <tr>\n",
       "      <th>3</th>\n",
       "      <td>-394.67</td>\n",
       "    </tr>\n",
       "    <tr>\n",
       "      <th>4</th>\n",
       "      <td>-585.56</td>\n",
       "    </tr>\n",
       "  </tbody>\n",
       "</table>\n",
       "</div>"
      ],
      "text/plain": [
       "    EXG Channel 5\n",
       "0           -3.42\n",
       "1          -35.62\n",
       "2         -159.28\n",
       "3         -394.67\n",
       "4         -585.56"
      ]
     },
     "execution_count": 58,
     "metadata": {},
     "output_type": "execute_result"
    }
   ],
   "source": [
    "testChannel = pd.DataFrame(dataset[' EXG Channel 5']/24) #Performing the filtering for channel 6\n",
    "test1 = testChannel[' EXG Channel 5'].values\n",
    "\n",
    "for i in range(3):\n",
    "    DataFilter.perform_highpass(test1, 250, 0.3, 4, FilterTypes.BUTTERWORTH.value, 0) #3rd order HP filter\n",
    "\n",
    "for i in range(3):\n",
    "    DataFilter.perform_lowpass(test1, 250, 95.0, 5, FilterTypes.CHEBYSHEV_TYPE_1.value, 1) #3rd order LP filter\n",
    "    \n",
    "testChannel[' EXG Channel 5'] = (testChannel[' EXG Channel 5']*0.707).round(2)\n",
    "dataset['channel 5'] = pd.DataFrame(testChannel[' EXG Channel 5'])\n",
    "testChannel.head()"
   ]
  },
  {
   "cell_type": "code",
   "execution_count": 59,
   "metadata": {},
   "outputs": [
    {
     "data": {
      "text/html": [
       "<div>\n",
       "<style scoped>\n",
       "    .dataframe tbody tr th:only-of-type {\n",
       "        vertical-align: middle;\n",
       "    }\n",
       "\n",
       "    .dataframe tbody tr th {\n",
       "        vertical-align: top;\n",
       "    }\n",
       "\n",
       "    .dataframe thead th {\n",
       "        text-align: right;\n",
       "    }\n",
       "</style>\n",
       "<table border=\"1\" class=\"dataframe\">\n",
       "  <thead>\n",
       "    <tr style=\"text-align: right;\">\n",
       "      <th></th>\n",
       "      <th>EXG Channel 6</th>\n",
       "    </tr>\n",
       "  </thead>\n",
       "  <tbody>\n",
       "    <tr>\n",
       "      <th>0</th>\n",
       "      <td>6.06</td>\n",
       "    </tr>\n",
       "    <tr>\n",
       "      <th>1</th>\n",
       "      <td>61.78</td>\n",
       "    </tr>\n",
       "    <tr>\n",
       "      <th>2</th>\n",
       "      <td>268.45</td>\n",
       "    </tr>\n",
       "    <tr>\n",
       "      <th>3</th>\n",
       "      <td>639.52</td>\n",
       "    </tr>\n",
       "    <tr>\n",
       "      <th>4</th>\n",
       "      <td>900.08</td>\n",
       "    </tr>\n",
       "  </tbody>\n",
       "</table>\n",
       "</div>"
      ],
      "text/plain": [
       "    EXG Channel 6\n",
       "0            6.06\n",
       "1           61.78\n",
       "2          268.45\n",
       "3          639.52\n",
       "4          900.08"
      ]
     },
     "execution_count": 59,
     "metadata": {},
     "output_type": "execute_result"
    }
   ],
   "source": [
    "testChannel = pd.DataFrame(dataset[' EXG Channel 6']/24) #Performing the filtering for channel 7\n",
    "test1 = testChannel[' EXG Channel 6'].values\n",
    "\n",
    "for i in range(3):\n",
    "    DataFilter.perform_highpass(test1, 250, 0.3, 4, FilterTypes.BUTTERWORTH.value, 0) #3rd order HP filter\n",
    "\n",
    "for i in range(3):\n",
    "    DataFilter.perform_lowpass(test1, 250, 95.0, 5, FilterTypes.CHEBYSHEV_TYPE_1.value, 1) #3rd order LP filter\n",
    "    \n",
    "testChannel[' EXG Channel 6'] = (testChannel[' EXG Channel 6']*0.707).round(2)\n",
    "dataset['channel 6'] = pd.DataFrame(testChannel[' EXG Channel 6'])\n",
    "testChannel.head()"
   ]
  },
  {
   "cell_type": "code",
   "execution_count": 60,
   "metadata": {},
   "outputs": [
    {
     "data": {
      "text/html": [
       "<div>\n",
       "<style scoped>\n",
       "    .dataframe tbody tr th:only-of-type {\n",
       "        vertical-align: middle;\n",
       "    }\n",
       "\n",
       "    .dataframe tbody tr th {\n",
       "        vertical-align: top;\n",
       "    }\n",
       "\n",
       "    .dataframe thead th {\n",
       "        text-align: right;\n",
       "    }\n",
       "</style>\n",
       "<table border=\"1\" class=\"dataframe\">\n",
       "  <thead>\n",
       "    <tr style=\"text-align: right;\">\n",
       "      <th></th>\n",
       "      <th>EXG Channel 7</th>\n",
       "    </tr>\n",
       "  </thead>\n",
       "  <tbody>\n",
       "    <tr>\n",
       "      <th>0</th>\n",
       "      <td>6.94</td>\n",
       "    </tr>\n",
       "    <tr>\n",
       "      <th>1</th>\n",
       "      <td>70.63</td>\n",
       "    </tr>\n",
       "    <tr>\n",
       "      <th>2</th>\n",
       "      <td>306.19</td>\n",
       "    </tr>\n",
       "    <tr>\n",
       "      <th>3</th>\n",
       "      <td>726.61</td>\n",
       "    </tr>\n",
       "    <tr>\n",
       "      <th>4</th>\n",
       "      <td>1015.23</td>\n",
       "    </tr>\n",
       "  </tbody>\n",
       "</table>\n",
       "</div>"
      ],
      "text/plain": [
       "    EXG Channel 7\n",
       "0            6.94\n",
       "1           70.63\n",
       "2          306.19\n",
       "3          726.61\n",
       "4         1015.23"
      ]
     },
     "execution_count": 60,
     "metadata": {},
     "output_type": "execute_result"
    }
   ],
   "source": [
    "testChannel = pd.DataFrame(dataset[' EXG Channel 7']/24) #Performing the filtering for channel 8\n",
    "test1 = testChannel[' EXG Channel 7'].values\n",
    "\n",
    "for i in range(3):\n",
    "    DataFilter.perform_highpass(test1, 250, 0.3, 4, FilterTypes.BUTTERWORTH.value, 0) #3rd order HP filter\n",
    "\n",
    "for i in range(3):\n",
    "    DataFilter.perform_lowpass(test1, 250, 95.0, 5, FilterTypes.CHEBYSHEV_TYPE_1.value, 1) #3rd order LP filter\n",
    "    \n",
    "testChannel[' EXG Channel 7'] = (testChannel[' EXG Channel 7']*0.707).round(2)\n",
    "dataset['channel 7'] = pd.DataFrame(testChannel[' EXG Channel 7'])\n",
    "testChannel.head()"
   ]
  },
  {
   "cell_type": "code",
   "execution_count": 61,
   "metadata": {},
   "outputs": [
    {
     "data": {
      "text/html": [
       "<div>\n",
       "<style scoped>\n",
       "    .dataframe tbody tr th:only-of-type {\n",
       "        vertical-align: middle;\n",
       "    }\n",
       "\n",
       "    .dataframe tbody tr th {\n",
       "        vertical-align: top;\n",
       "    }\n",
       "\n",
       "    .dataframe thead th {\n",
       "        text-align: right;\n",
       "    }\n",
       "</style>\n",
       "<table border=\"1\" class=\"dataframe\">\n",
       "  <thead>\n",
       "    <tr style=\"text-align: right;\">\n",
       "      <th></th>\n",
       "      <th>EXG Channel 0</th>\n",
       "      <th>EXG Channel 1</th>\n",
       "      <th>EXG Channel 2</th>\n",
       "      <th>EXG Channel 3</th>\n",
       "      <th>EXG Channel 4</th>\n",
       "      <th>EXG Channel 5</th>\n",
       "      <th>EXG Channel 6</th>\n",
       "      <th>EXG Channel 7</th>\n",
       "      <th>Timestamp (Formatted)</th>\n",
       "      <th>channel 0</th>\n",
       "      <th>channel 1</th>\n",
       "      <th>channel 2</th>\n",
       "      <th>channel 3</th>\n",
       "      <th>channel 4</th>\n",
       "      <th>channel 5</th>\n",
       "      <th>channel 6</th>\n",
       "      <th>channel 7</th>\n",
       "    </tr>\n",
       "  </thead>\n",
       "  <tbody>\n",
       "    <tr>\n",
       "      <th>0</th>\n",
       "      <td>41172.785156</td>\n",
       "      <td>-568.874207</td>\n",
       "      <td>-20473.302734</td>\n",
       "      <td>-18087.277344</td>\n",
       "      <td>36842.601562</td>\n",
       "      <td>-17150.515625</td>\n",
       "      <td>30402.126953</td>\n",
       "      <td>34801.531250</td>\n",
       "      <td>2020-12-08 19:24:02.088</td>\n",
       "      <td>8.21</td>\n",
       "      <td>-0.11</td>\n",
       "      <td>-4.08</td>\n",
       "      <td>-3.61</td>\n",
       "      <td>7.34</td>\n",
       "      <td>-3.42</td>\n",
       "      <td>6.06</td>\n",
       "      <td>6.94</td>\n",
       "    </tr>\n",
       "    <tr>\n",
       "      <th>1</th>\n",
       "      <td>41235.414062</td>\n",
       "      <td>-11457.302734</td>\n",
       "      <td>-24090.552734</td>\n",
       "      <td>-22627.765625</td>\n",
       "      <td>36675.097656</td>\n",
       "      <td>-21152.550781</td>\n",
       "      <td>30691.759766</td>\n",
       "      <td>34648.800781</td>\n",
       "      <td>2020-12-08 19:24:02.088</td>\n",
       "      <td>83.60</td>\n",
       "      <td>-3.33</td>\n",
       "      <td>-42.29</td>\n",
       "      <td>-37.63</td>\n",
       "      <td>74.77</td>\n",
       "      <td>-35.62</td>\n",
       "      <td>61.78</td>\n",
       "      <td>70.63</td>\n",
       "    </tr>\n",
       "    <tr>\n",
       "      <th>2</th>\n",
       "      <td>41535.550781</td>\n",
       "      <td>-26242.712891</td>\n",
       "      <td>-27323.128906</td>\n",
       "      <td>-27170.890625</td>\n",
       "      <td>36393.242188</td>\n",
       "      <td>-21653.564453</td>\n",
       "      <td>31119.238281</td>\n",
       "      <td>34546.476562</td>\n",
       "      <td>2020-12-08 19:24:02.088</td>\n",
       "      <td>362.82</td>\n",
       "      <td>-30.06</td>\n",
       "      <td>-188.31</td>\n",
       "      <td>-169.43</td>\n",
       "      <td>324.10</td>\n",
       "      <td>-159.28</td>\n",
       "      <td>268.45</td>\n",
       "      <td>306.19</td>\n",
       "    </tr>\n",
       "    <tr>\n",
       "      <th>3</th>\n",
       "      <td>41614.117188</td>\n",
       "      <td>-27117.068359</td>\n",
       "      <td>-27394.609375</td>\n",
       "      <td>-27311.283203</td>\n",
       "      <td>36384.546875</td>\n",
       "      <td>-19474.404297</td>\n",
       "      <td>31103.099609</td>\n",
       "      <td>34605.507812</td>\n",
       "      <td>2020-12-08 19:24:02.088</td>\n",
       "      <td>862.63</td>\n",
       "      <td>-138.00</td>\n",
       "      <td>-466.80</td>\n",
       "      <td>-427.68</td>\n",
       "      <td>768.80</td>\n",
       "      <td>-394.67</td>\n",
       "      <td>639.52</td>\n",
       "      <td>726.61</td>\n",
       "    </tr>\n",
       "    <tr>\n",
       "      <th>4</th>\n",
       "      <td>41469.257812</td>\n",
       "      <td>-18650.541016</td>\n",
       "      <td>-25384.181641</td>\n",
       "      <td>-24168.851562</td>\n",
       "      <td>36598.765625</td>\n",
       "      <td>-17332.435547</td>\n",
       "      <td>30806.939453</td>\n",
       "      <td>34728.687500</td>\n",
       "      <td>2020-12-08 19:24:02.088</td>\n",
       "      <td>1209.85</td>\n",
       "      <td>-374.79</td>\n",
       "      <td>-703.47</td>\n",
       "      <td>-664.37</td>\n",
       "      <td>1072.99</td>\n",
       "      <td>-585.56</td>\n",
       "      <td>900.08</td>\n",
       "      <td>1015.23</td>\n",
       "    </tr>\n",
       "  </tbody>\n",
       "</table>\n",
       "</div>"
      ],
      "text/plain": [
       "    EXG Channel 0   EXG Channel 1   EXG Channel 2   EXG Channel 3  \\\n",
       "0    41172.785156     -568.874207   -20473.302734   -18087.277344   \n",
       "1    41235.414062   -11457.302734   -24090.552734   -22627.765625   \n",
       "2    41535.550781   -26242.712891   -27323.128906   -27170.890625   \n",
       "3    41614.117188   -27117.068359   -27394.609375   -27311.283203   \n",
       "4    41469.257812   -18650.541016   -25384.181641   -24168.851562   \n",
       "\n",
       "    EXG Channel 4   EXG Channel 5   EXG Channel 6   EXG Channel 7  \\\n",
       "0    36842.601562   -17150.515625    30402.126953    34801.531250   \n",
       "1    36675.097656   -21152.550781    30691.759766    34648.800781   \n",
       "2    36393.242188   -21653.564453    31119.238281    34546.476562   \n",
       "3    36384.546875   -19474.404297    31103.099609    34605.507812   \n",
       "4    36598.765625   -17332.435547    30806.939453    34728.687500   \n",
       "\n",
       "    Timestamp (Formatted)  channel 0  channel 1  channel 2  channel 3  \\\n",
       "0 2020-12-08 19:24:02.088       8.21      -0.11      -4.08      -3.61   \n",
       "1 2020-12-08 19:24:02.088      83.60      -3.33     -42.29     -37.63   \n",
       "2 2020-12-08 19:24:02.088     362.82     -30.06    -188.31    -169.43   \n",
       "3 2020-12-08 19:24:02.088     862.63    -138.00    -466.80    -427.68   \n",
       "4 2020-12-08 19:24:02.088    1209.85    -374.79    -703.47    -664.37   \n",
       "\n",
       "   channel 4  channel 5  channel 6  channel 7  \n",
       "0       7.34      -3.42       6.06       6.94  \n",
       "1      74.77     -35.62      61.78      70.63  \n",
       "2     324.10    -159.28     268.45     306.19  \n",
       "3     768.80    -394.67     639.52     726.61  \n",
       "4    1072.99    -585.56     900.08    1015.23  "
      ]
     },
     "execution_count": 61,
     "metadata": {},
     "output_type": "execute_result"
    }
   ],
   "source": [
    "dataset.head()"
   ]
  },
  {
   "cell_type": "code",
   "execution_count": 65,
   "metadata": {},
   "outputs": [
    {
     "data": {
      "text/plain": [
       "<matplotlib.axes._subplots.AxesSubplot at 0x1e30c230>"
      ]
     },
     "execution_count": 65,
     "metadata": {},
     "output_type": "execute_result"
    },
    {
     "data": {
      "image/png": "[encoded data removed]",
      "text/plain": [
       "<Figure size 432x288 with 1 Axes>"
      ]
     },
     "metadata": {
      "needs_background": "light"
     },
     "output_type": "display_data"
    }
   ],
   "source": [
    "dataset[['channel 0','channel 1','channel 2','channel 3','channel 4','channel 5','channel 6','channel 7']].plot(kind='line')"
   ]
  },
  {
   "cell_type": "markdown",
   "metadata": {},
   "source": [
    "#### You can see that the values of all the channels are well under the range of -100 to +100micro volts"
   ]
  },
  {
   "cell_type": "code",
   "execution_count": 66,
   "metadata": {},
   "outputs": [
    {
     "data": {
      "text/html": [
       "<div>\n",
       "<style scoped>\n",
       "    .dataframe tbody tr th:only-of-type {\n",
       "        vertical-align: middle;\n",
       "    }\n",
       "\n",
       "    .dataframe tbody tr th {\n",
       "        vertical-align: top;\n",
       "    }\n",
       "\n",
       "    .dataframe thead th {\n",
       "        text-align: right;\n",
       "    }\n",
       "</style>\n",
       "<table border=\"1\" class=\"dataframe\">\n",
       "  <thead>\n",
       "    <tr style=\"text-align: right;\">\n",
       "      <th></th>\n",
       "      <th>EXG Channel 0</th>\n",
       "      <th>EXG Channel 1</th>\n",
       "      <th>EXG Channel 2</th>\n",
       "      <th>EXG Channel 3</th>\n",
       "      <th>EXG Channel 4</th>\n",
       "      <th>EXG Channel 5</th>\n",
       "      <th>EXG Channel 6</th>\n",
       "      <th>EXG Channel 7</th>\n",
       "      <th>channel 0</th>\n",
       "      <th>channel 1</th>\n",
       "      <th>channel 2</th>\n",
       "      <th>channel 3</th>\n",
       "      <th>channel 4</th>\n",
       "      <th>channel 5</th>\n",
       "      <th>channel 6</th>\n",
       "      <th>channel 7</th>\n",
       "    </tr>\n",
       "  </thead>\n",
       "  <tbody>\n",
       "    <tr>\n",
       "      <th>count</th>\n",
       "      <td>34939.000000</td>\n",
       "      <td>34939.000000</td>\n",
       "      <td>34939.000000</td>\n",
       "      <td>34939.000000</td>\n",
       "      <td>34939.000000</td>\n",
       "      <td>34939.000000</td>\n",
       "      <td>34939.000000</td>\n",
       "      <td>34939.000000</td>\n",
       "      <td>34939.000000</td>\n",
       "      <td>34939.000000</td>\n",
       "      <td>34939.000000</td>\n",
       "      <td>34939.000000</td>\n",
       "      <td>34939.000000</td>\n",
       "      <td>34939.000000</td>\n",
       "      <td>3.493900e+04</td>\n",
       "      <td>34939.000000</td>\n",
       "    </tr>\n",
       "    <tr>\n",
       "      <th>mean</th>\n",
       "      <td>44920.870907</td>\n",
       "      <td>60228.169222</td>\n",
       "      <td>-26951.240353</td>\n",
       "      <td>-24288.519174</td>\n",
       "      <td>41226.553232</td>\n",
       "      <td>-19157.427593</td>\n",
       "      <td>33290.189714</td>\n",
       "      <td>36216.322635</td>\n",
       "      <td>-0.000104</td>\n",
       "      <td>0.003083</td>\n",
       "      <td>-0.001736</td>\n",
       "      <td>-0.000771</td>\n",
       "      <td>-0.000544</td>\n",
       "      <td>-0.000765</td>\n",
       "      <td>-2.862131e-07</td>\n",
       "      <td>-0.000114</td>\n",
       "    </tr>\n",
       "    <tr>\n",
       "      <th>std</th>\n",
       "      <td>1619.169817</td>\n",
       "      <td>17054.070020</td>\n",
       "      <td>3039.178142</td>\n",
       "      <td>4122.196835</td>\n",
       "      <td>2858.783855</td>\n",
       "      <td>2315.394028</td>\n",
       "      <td>1792.234854</td>\n",
       "      <td>1851.487647</td>\n",
       "      <td>38.887723</td>\n",
       "      <td>72.098277</td>\n",
       "      <td>57.428264</td>\n",
       "      <td>78.827125</td>\n",
       "      <td>34.551164</td>\n",
       "      <td>48.510004</td>\n",
       "      <td>2.958638e+01</td>\n",
       "      <td>32.639427</td>\n",
       "    </tr>\n",
       "    <tr>\n",
       "      <th>min</th>\n",
       "      <td>0.000000</td>\n",
       "      <td>-27263.472656</td>\n",
       "      <td>-36918.351562</td>\n",
       "      <td>-35880.808594</td>\n",
       "      <td>0.000000</td>\n",
       "      <td>-23188.972656</td>\n",
       "      <td>0.000000</td>\n",
       "      <td>0.000000</td>\n",
       "      <td>-497.240000</td>\n",
       "      <td>-955.340000</td>\n",
       "      <td>-703.470000</td>\n",
       "      <td>-685.710000</td>\n",
       "      <td>-441.470000</td>\n",
       "      <td>-585.560000</td>\n",
       "      <td>-3.708900e+02</td>\n",
       "      <td>-415.090000</td>\n",
       "    </tr>\n",
       "    <tr>\n",
       "      <th>25%</th>\n",
       "      <td>44167.548828</td>\n",
       "      <td>44718.228516</td>\n",
       "      <td>-28934.333008</td>\n",
       "      <td>-27651.128906</td>\n",
       "      <td>38723.769531</td>\n",
       "      <td>-21109.846680</td>\n",
       "      <td>32465.773438</td>\n",
       "      <td>35409.441406</td>\n",
       "      <td>-2.240000</td>\n",
       "      <td>-11.575000</td>\n",
       "      <td>-51.760000</td>\n",
       "      <td>-73.610000</td>\n",
       "      <td>-2.860000</td>\n",
       "      <td>-41.515000</td>\n",
       "      <td>-4.480000e+00</td>\n",
       "      <td>-1.430000</td>\n",
       "    </tr>\n",
       "    <tr>\n",
       "      <th>50%</th>\n",
       "      <td>44406.296875</td>\n",
       "      <td>50224.414062</td>\n",
       "      <td>-27676.957031</td>\n",
       "      <td>-24861.710938</td>\n",
       "      <td>39382.765625</td>\n",
       "      <td>-19399.324219</td>\n",
       "      <td>32719.578125</td>\n",
       "      <td>35658.609375</td>\n",
       "      <td>0.050000</td>\n",
       "      <td>-0.200000</td>\n",
       "      <td>-0.330000</td>\n",
       "      <td>-0.140000</td>\n",
       "      <td>-0.000000</td>\n",
       "      <td>-0.360000</td>\n",
       "      <td>9.000000e-02</td>\n",
       "      <td>-0.010000</td>\n",
       "    </tr>\n",
       "    <tr>\n",
       "      <th>75%</th>\n",
       "      <td>44863.201172</td>\n",
       "      <td>79828.156250</td>\n",
       "      <td>-24332.890625</td>\n",
       "      <td>-20650.619141</td>\n",
       "      <td>43590.861328</td>\n",
       "      <td>-17350.250000</td>\n",
       "      <td>33076.736328</td>\n",
       "      <td>35846.228516</td>\n",
       "      <td>2.240000</td>\n",
       "      <td>11.410000</td>\n",
       "      <td>52.285000</td>\n",
       "      <td>72.270000</td>\n",
       "      <td>2.860000</td>\n",
       "      <td>42.145000</td>\n",
       "      <td>4.590000e+00</td>\n",
       "      <td>1.420000</td>\n",
       "    </tr>\n",
       "    <tr>\n",
       "      <th>max</th>\n",
       "      <td>51553.425781</td>\n",
       "      <td>82763.007812</td>\n",
       "      <td>0.000000</td>\n",
       "      <td>0.000000</td>\n",
       "      <td>47006.253906</td>\n",
       "      <td>0.000000</td>\n",
       "      <td>40764.953125</td>\n",
       "      <td>43832.507812</td>\n",
       "      <td>1209.850000</td>\n",
       "      <td>1994.320000</td>\n",
       "      <td>363.570000</td>\n",
       "      <td>383.990000</td>\n",
       "      <td>1072.990000</td>\n",
       "      <td>283.050000</td>\n",
       "      <td>9.000800e+02</td>\n",
       "      <td>1015.230000</td>\n",
       "    </tr>\n",
       "  </tbody>\n",
       "</table>\n",
       "</div>"
      ],
      "text/plain": [
       "        EXG Channel 0   EXG Channel 1   EXG Channel 2   EXG Channel 3  \\\n",
       "count    34939.000000    34939.000000    34939.000000    34939.000000   \n",
       "mean     44920.870907    60228.169222   -26951.240353   -24288.519174   \n",
       "std       1619.169817    17054.070020     3039.178142     4122.196835   \n",
       "min          0.000000   -27263.472656   -36918.351562   -35880.808594   \n",
       "25%      44167.548828    44718.228516   -28934.333008   -27651.128906   \n",
       "50%      44406.296875    50224.414062   -27676.957031   -24861.710938   \n",
       "75%      44863.201172    79828.156250   -24332.890625   -20650.619141   \n",
       "max      51553.425781    82763.007812        0.000000        0.000000   \n",
       "\n",
       "        EXG Channel 4   EXG Channel 5   EXG Channel 6   EXG Channel 7  \\\n",
       "count    34939.000000    34939.000000    34939.000000    34939.000000   \n",
       "mean     41226.553232   -19157.427593    33290.189714    36216.322635   \n",
       "std       2858.783855     2315.394028     1792.234854     1851.487647   \n",
       "min          0.000000   -23188.972656        0.000000        0.000000   \n",
       "25%      38723.769531   -21109.846680    32465.773438    35409.441406   \n",
       "50%      39382.765625   -19399.324219    32719.578125    35658.609375   \n",
       "75%      43590.861328   -17350.250000    33076.736328    35846.228516   \n",
       "max      47006.253906        0.000000    40764.953125    43832.507812   \n",
       "\n",
       "          channel 0     channel 1     channel 2     channel 3     channel 4  \\\n",
       "count  34939.000000  34939.000000  34939.000000  34939.000000  34939.000000   \n",
       "mean      -0.000104      0.003083     -0.001736     -0.000771     -0.000544   \n",
       "std       38.887723     72.098277     57.428264     78.827125     34.551164   \n",
       "min     -497.240000   -955.340000   -703.470000   -685.710000   -441.470000   \n",
       "25%       -2.240000    -11.575000    -51.760000    -73.610000     -2.860000   \n",
       "50%        0.050000     -0.200000     -0.330000     -0.140000     -0.000000   \n",
       "75%        2.240000     11.410000     52.285000     72.270000      2.860000   \n",
       "max     1209.850000   1994.320000    363.570000    383.990000   1072.990000   \n",
       "\n",
       "          channel 5     channel 6     channel 7  \n",
       "count  34939.000000  3.493900e+04  34939.000000  \n",
       "mean      -0.000765 -2.862131e-07     -0.000114  \n",
       "std       48.510004  2.958638e+01     32.639427  \n",
       "min     -585.560000 -3.708900e+02   -415.090000  \n",
       "25%      -41.515000 -4.480000e+00     -1.430000  \n",
       "50%       -0.360000  9.000000e-02     -0.010000  \n",
       "75%       42.145000  4.590000e+00      1.420000  \n",
       "max      283.050000  9.000800e+02   1015.230000  "
      ]
     },
     "execution_count": 66,
     "metadata": {},
     "output_type": "execute_result"
    }
   ],
   "source": [
    "dataset.describe()"
   ]
  },
  {
   "cell_type": "code",
   "execution_count": 67,
   "metadata": {},
   "outputs": [],
   "source": [
    "dataset.to_csv('cleaned.csv')"
   ]
  },
  {
   "cell_type": "code",
   "execution_count": 69,
   "metadata": {},
   "outputs": [
    {
     "data": {
      "text/plain": [
       "<matplotlib.axes._subplots.AxesSubplot at 0x1edb5510>"
      ]
     },
     "execution_count": 69,
     "metadata": {},
     "output_type": "execute_result"
    },
    {
     "data": {
      "image/png": "[encoded data removed]",
      "text/plain": [
       "<Figure size 432x288 with 1 Axes>"
      ]
     },
     "metadata": {
      "needs_background": "light"
     },
     "output_type": "display_data"
    }
   ],
   "source": [
    "dataset['channel 0'].plot(kind='line')"
   ]
  },
  {
   "cell_type": "code",
   "execution_count": 70,
   "metadata": {},
   "outputs": [
    {
     "data": {
      "text/plain": [
       "<matplotlib.axes._subplots.AxesSubplot at 0x1ed91330>"
      ]
     },
     "execution_count": 70,
     "metadata": {},
     "output_type": "execute_result"
    },
    {
     "data": {
      "image/png": "[encoded data removed]",
      "text/plain": [
       "<Figure size 432x288 with 1 Axes>"
      ]
     },
     "metadata": {
      "needs_background": "light"
     },
     "output_type": "display_data"
    }
   ],
   "source": [
    "dataset['channel 1'].plot(kind='line')"
   ]
  },
  {
   "cell_type": "code",
   "execution_count": 71,
   "metadata": {},
   "outputs": [
    {
     "data": {
      "text/plain": [
       "<matplotlib.axes._subplots.AxesSubplot at 0x1e47e0d0>"
      ]
     },
     "execution_count": 71,
     "metadata": {},
     "output_type": "execute_result"
    },
    {
     "data": {
      "image/png": "[encoded data removed]",
      "text/plain": [
       "<Figure size 432x288 with 1 Axes>"
      ]
     },
     "metadata": {
      "needs_background": "light"
     },
     "output_type": "display_data"
    }
   ],
   "source": [
    "dataset['channel 2'].plot(kind='line')"
   ]
  },
  {
   "cell_type": "code",
   "execution_count": 72,
   "metadata": {},
   "outputs": [
    {
     "data": {
      "text/plain": [
       "<matplotlib.axes._subplots.AxesSubplot at 0xd49a9f0>"
      ]
     },
     "execution_count": 72,
     "metadata": {},
     "output_type": "execute_result"
    },
    {
     "data": {
      "image/png": "[encoded data removed]",
      "text/plain": [
       "<Figure size 432x288 with 1 Axes>"
      ]
     },
     "metadata": {
      "needs_background": "light"
     },
     "output_type": "display_data"
    }
   ],
   "source": [
    "dataset['channel 3'].plot(kind='line')"
   ]
  },
  {
   "cell_type": "code",
   "execution_count": 73,
   "metadata": {},
   "outputs": [
    {
     "data": {
      "text/plain": [
       "<matplotlib.axes._subplots.AxesSubplot at 0x1e3cc9d0>"
      ]
     },
     "execution_count": 73,
     "metadata": {},
     "output_type": "execute_result"
    },
    {
     "data": {
      "image/png": "[encoded data removed]",
      "text/plain": [
       "<Figure size 432x288 with 1 Axes>"
      ]
     },
     "metadata": {
      "needs_background": "light"
     },
     "output_type": "display_data"
    }
   ],
   "source": [
    "dataset['channel 4'].plot(kind='line')"
   ]
  },
  {
   "cell_type": "code",
   "execution_count": 74,
   "metadata": {},
   "outputs": [
    {
     "data": {
      "text/plain": [
       "<matplotlib.axes._subplots.AxesSubplot at 0x21aa94f0>"
      ]
     },
     "execution_count": 74,
     "metadata": {},
     "output_type": "execute_result"
    },
    {
     "data": {
      "image/png": "[encoded data removed]",
      "text/plain": [
       "<Figure size 432x288 with 1 Axes>"
      ]
     },
     "metadata": {
      "needs_background": "light"
     },
     "output_type": "display_data"
    }
   ],
   "source": [
    "dataset['channel 5'].plot(kind='line')"
   ]
  },
  {
   "cell_type": "code",
   "execution_count": 75,
   "metadata": {},
   "outputs": [
    {
     "data": {
      "text/plain": [
       "<matplotlib.axes._subplots.AxesSubplot at 0x21ae5210>"
      ]
     },
     "execution_count": 75,
     "metadata": {},
     "output_type": "execute_result"
    },
    {
     "data": {
      "image/png": "[encoded data removed]",
      "text/plain": [
       "<Figure size 432x288 with 1 Axes>"
      ]
     },
     "metadata": {
      "needs_background": "light"
     },
     "output_type": "display_data"
    }
   ],
   "source": [
    "dataset['channel 6'].plot(kind='line')"
   ]
  },
  {
   "cell_type": "code",
   "execution_count": 76,
   "metadata": {},
   "outputs": [
    {
     "data": {
      "text/plain": [
       "<matplotlib.axes._subplots.AxesSubplot at 0x243ba7b0>"
      ]
     },
     "execution_count": 76,
     "metadata": {},
     "output_type": "execute_result"
    },
    {
     "data": {
      "image/png": "[encoded data removed]",
      "text/plain": [
       "<Figure size 432x288 with 1 Axes>"
      ]
     },
     "metadata": {
      "needs_background": "light"
     },
     "output_type": "display_data"
    }
   ],
   "source": [
    "dataset['channel 7'].plot(kind='line')"
   ]
  },
  {
   "cell_type": "code",
   "execution_count": 78,
   "metadata": {},
   "outputs": [
    {
     "data": {
      "text/plain": [
       "Timestamp('2020-12-08 19:24:18.040000')"
      ]
     },
     "execution_count": 78,
     "metadata": {},
     "output_type": "execute_result"
    }
   ],
   "source": [
    "dataset[' Timestamp (Formatted)'].iloc[4000]"
   ]
  },
  {
   "cell_type": "code",
   "execution_count": 79,
   "metadata": {},
   "outputs": [
    {
     "data": {
      "text/plain": [
       "Timestamp('2020-12-08 19:26:06.814000')"
      ]
     },
     "execution_count": 79,
     "metadata": {},
     "output_type": "execute_result"
    }
   ],
   "source": [
    "dataset[' Timestamp (Formatted)'].iloc[31250]"
   ]
  },
  {
   "cell_type": "code",
   "execution_count": null,
   "metadata": {},
   "outputs": [],
   "source": [
    "dataset[' EXG Channel 0'].plot(kind='hist')"
   ]
  }
 ],
 "metadata": {
  "kernelspec": {
   "display_name": "Python 3.7.2 32-bit",
   "language": "python",
   "name": "python37232bitb10d8bd6f2614a34b9f84e451a73c1fe"
  },
  "language_info": {
   "codemirror_mode": {
    "name": "ipython",
    "version": 3
   },
   "file_extension": ".py",
   "mimetype": "text/x-python",
   "name": "python",
   "nbconvert_exporter": "python",
   "pygments_lexer": "ipython3",
   "version": "3.7.2"
  }
 },
 "nbformat": 4,
 "nbformat_minor": 4
}
